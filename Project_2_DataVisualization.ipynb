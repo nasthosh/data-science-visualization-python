{
 "cells": [
  {
   "cell_type": "markdown",
   "metadata": {},
   "source": [
    "# FIT5145 - Introduction to Data Science \n",
    "## Assignment 1\n",
    "\n",
    "The aim of this assignment is to investigate and visualise data using various data science tools. It will test your ability to:\n",
    "1. read data files in Python and extract related data from those files;\n",
    "2. wrangle and process data;\n",
    "3. use various graphical and non-graphical tools to perform exploratory data analysis and visualisation;\n",
    "4. use basic tools for managing and processing big data; and\n",
    "5. communicate your findings in your report.\n",
    "\n",
    "You will need to submit two files:\n",
    "1. The Python code as a Jupyter notebook file that you wrote to analyse and plot the data.\n",
    "2. A PDF of your Jupyter notebook file containing your answers (code, figures and answers to all the questions). Make sure to include screenshots/images of the graphs you generate in order to justify your answers to all the questions. Marks will be assigned to PDF reports based on their correctness and clarity. -- For example, higher marks will be given to PDF reports containing graphs with appropriately labelled axes.\n",
    "\n",
    "IMPORTANT NOTE - Zip file submission will have a penalty of 10%. Do not submit the separate files requested above together in one Zip file. As indicated in the rubric, marks will be deducted for this because it adds significantly to the time it takes for the markers to open up and access your assignments given that there are many students in this class.\n",
    "\n",
    "## Tasks\n",
    "\n",
    "There are two tasks that you need to complete for this assignment, Task A and Task B. You need to use Python to complete the tasks.\n",
    "\n",
    "## Task A - Who are Data Scientists? Data Scientist Demographics\n",
    "\n",
    "*'What does a does a Data Scientist look like?'*, *'What is Data Science exactly?'*, *'Is Python or R better to learn for beginners?'*, *'Do you have to have a degree in Computer Science to be a Data Scientist?'* and *'Do data scientists earn as much as I think?'*.\n",
    "\n",
    "Anjul Bhambri, the Vice Preseident of big data prodcts at IBM says this \n",
    "\n",
    ">*‘A data scientist is somebody who is inquisitive, who can stare at data and spot trends. It’s almost like a Renaissance individual who really wants to learn and bring change to an organisation.’*\n",
    "\n",
    "In this course, you have learned that the diversity in definitions, skill sets, tools, applications and knowledge domains that make data science challenging to define precisely. By completing the following questions, we hope you can get a more precise understanding. \n",
    "\n",
    "**The Data**\n",
    "\n",
    "Kaggle is the home of analytics and predictive modelling competitions. Data Science enthusiast, beginners to professionals, compete to create the best predictive models using datasets uploaded both by individuals and companies looking for insights. Prizes can be as high as $3 million US. In late 2017 a survey of Kaggle users was conducted and received over 16,700 responses. The dataset was, of course, made public and many insights have emerged since. We have taken a portion of the data set and heavily modified the data. Both to clean the data, a significant component of data science and to ensure original assignment submission.\n",
    "\n",
    "**Your Job**\n",
    "\n",
    "The following notebook has been constructed to provide you with directions (<span style=\"color: blue\">blue</span>), assessed questions (<span style=\"color: brown\">brown</span>) and background information. Responses to both blue directions and brown questions are assessable.\n",
    "\n",
    "You will be required to write your own code. Underneath direction boxes, there will be empty cells with the comment <span style=\"color: green\">#Your code</span>. Insert new cells under this cell if required.\n",
    "\n",
    "To respond to questions you should double click on the cell beneath each question with the comment <span style=\"color: green\">Answer</span>.\n",
    "\n",
    "Please note, your commenting and adherence to Python code standards will be marked. This notebook has been designed to give you a template for how we expect Python Notebooks to be submitted for assessment. If you require further information on Python standards, please visit https://www.python.org/dev/peps/pep-0008/ \n",
    "Do not change any of the directions or answer boxes, the order of questions, order of code entry cells or the name of the input files. \n",
    "\n",
    "**The Files**\n",
    "\n",
    "- *multipleChoiceResponses.csv * : Participants' answers to multiple choice questions. Each column contains the answers of one respondent to a specific question.                         \n",
    "- *conversionRates.csv* : Currency conversion rates to USD. \n",
    "\n"
   ]
  },
  {
   "cell_type": "markdown",
   "metadata": {},
   "source": [
    " <div class=\"alert alert-block alert-info\">\n",
    "** Your Information** \n",
    "Enter your information in the following cell. Please make sure you specify what version of python you are using as your tutor may not be using the same version and will adjust your code accordingly.  "
   ]
  },
  {
   "cell_type": "markdown",
   "metadata": {},
   "source": [
    "## Student Information\n",
    "<a id=\"Student Information\"></a> \n",
    "Please enter your details here. \n",
    "#### Name: \n",
    "#### Student number:\n",
    "#### Tutorial Day and Time:\n",
    "#### Tutor:\n",
    "#### Environment: Python *(what version of python you are using)* and *Distribution (i.e. Anaconda 5.3.0 (64-bit))* "
   ]
  },
  {
   "cell_type": "markdown",
   "metadata": {
    "_cell_guid": "c82f465b-c452-4cfb-b9f3-df726ab7ad2b",
    "_uuid": "d39564daed3ef49aaf00b5582e23e354c4f32d2e"
   },
   "source": [
    "# Table of contents\n",
    "\n",
    "* [Student Information](#Student Information)\n",
    "* [1. Demographic analysis](#demographics)\n",
    "   * [1.1. Age](#age)\n",
    "   * [1.2. Gender](#gender)\n",
    "   * [1.3. Country](#country)\n",
    "* [2. Education](#education)\n",
    "    * [2.1. Formal education](#formal)\n",
    "* [3. Employment](#employment)\n",
    "    * [3.1. Employment Status](#status)\n",
    "* [4. Salary](#salary)\n",
    "    * [4.1. Salary overview](#overview)\n",
    "    * [4.2. Salary by country](#countrysal)\n",
    "    * [4.3. Salary and gender](#gender_salary)\n",
    "    * [4.4. Salary and formal education](#education_salary)\n",
    "    * [4.5. Salary and job](#salary_job)\n",
    "* [5. Predicting Salary](#pred)\n"
   ]
  },
  {
   "cell_type": "markdown",
   "metadata": {
    "_cell_guid": "06c9b38b-000e-4b8a-95f0-65a93bb332f2",
    "_uuid": "2bfa8ca86a226c9900a67a02236a072274bc0d18"
   },
   "source": [
    "## 0. Load your libraries and files\n",
    "<a id=\"Load data\"></a>\n",
    "***\n"
   ]
  },
  {
   "cell_type": "markdown",
   "metadata": {},
   "source": [
    " <div class=\"alert alert-block alert-info\">\n",
    "1. ** Load your libraries and files** \n",
    "\n",
    "This assesment will be conducted using pandas. You will also be required to create visualisations. We recomend Seaborn which is more visually appealing than matplotlib. However, you may choose either. For further information on Seaborn visit https://seaborn.pydata.org/\n",
    "\n",
    "*Hint: Remember to comment what each library does.* "
   ]
  },
  {
   "cell_type": "code",
   "execution_count": null,
   "metadata": {
    "_cell_guid": "bf6d21b3-22d5-48e4-8a62-a50ef36bae42",
    "_kg_hide-input": true,
    "_kg_hide-output": false,
    "_uuid": "76567470049e7d7e878b76d72e81858f56bdbd2a",
    "scrolled": true
   },
   "outputs": [],
   "source": [
    "# Your code\n",
    "import pandas as pd\n",
    "import numpy as np\n",
    "import matplotlib.pyplot as plt\n",
    "import statistics as st\n",
    "%matplotlib inline\n",
    "dataSet=pd.read_csv('multipleChoiceResponses.csv') # read the csv file from the directory\n",
    "dataSet"
   ]
  },
  {
   "cell_type": "markdown",
   "metadata": {
    "_cell_guid": "06c9b38b-000e-4b8a-95f0-65a93bb332f2",
    "_uuid": "2bfa8ca86a226c9900a67a02236a072274bc0d18"
   },
   "source": [
    "## 1. Demographic Analysis\n",
    "<a id=\"demographics\"></a>\n",
    "***\n",
    "##### So what does a data scientist look like?\n",
    "\n",
    "Let's get a general understanding of the characteristics of the survey participants. Demographic overviews are a standard way to start an exploration of survey data. The types of participants can heavily affect the survey responses.\n",
    "\n",
    "### 1.1 Age\n",
    "<a id=\"age\"></a>\n",
    "Visualisation is a quick and easy way to gain an overview of the data. One method is through a boxplot. Boxplots are a way to show the distribution of numerical data and display the five descriptive statistics: minimum, first quartile, median, third quartile, and maximum. Outliers should also be shown."
   ]
  },
  {
   "cell_type": "markdown",
   "metadata": {},
   "source": [
    " <div class=\"alert alert-block alert-info\">\n",
    "2 Create a box plot showing the age of all the participants.\n",
    "\n",
    "Your plot must have labels for each axis, a title, numerical points for the age axis and also show the outliers. "
   ]
  },
  {
   "cell_type": "code",
   "execution_count": null,
   "metadata": {},
   "outputs": [],
   "source": [
    "# Your code\n",
    "dataSet.boxplot(column='Age') #plotting based on age\n",
    "plt.ylabel('Age Limit')\n",
    "plt.title('Age Box Plot')\n",
    "plt.ylim(10,80)\n",
    "plt.show()"
   ]
  },
  {
   "cell_type": "markdown",
   "metadata": {},
   "source": [
    " <div class=\"alert alert-block alert-warning\">\n",
    "3. Calculate the five descriptive statistics as shown on the boxplot, as well as the mean\n",
    "\n",
    "Round your answer to the nearest whole number."
   ]
  },
  {
   "cell_type": "code",
   "execution_count": 311,
   "metadata": {},
   "outputs": [
    {
     "data": {
      "text/plain": [
       "count    3540.0\n",
       "mean       34.0\n",
       "std         9.0\n",
       "min        20.0\n",
       "25%        27.0\n",
       "50%        32.0\n",
       "75%        39.0\n",
       "max        78.0\n",
       "Name: Age, dtype: float64"
      ]
     },
     "execution_count": 311,
     "metadata": {},
     "output_type": "execute_result"
    }
   ],
   "source": [
    "# Your code\n",
    "ageDescriptiveStatistics = round(dataSet['Age'].describe()) #returns the descriptive statistics\n",
    "ageDescriptiveStatistics"
   ]
  },
  {
   "cell_type": "markdown",
   "metadata": {},
   "source": [
    "<span style=\"color: green\">**Answer**</span>\n",
    "\n",
    "\n"
   ]
  },
  {
   "cell_type": "markdown",
   "metadata": {},
   "source": [
    " <div class=\"alert alert-block alert-warning\">\n",
    "4. Looking at the boxplot what general conclusion can you make about the age of the participants?\n",
    "\n",
    "You must explain your answer concerning the median, minimum and maximum age of the respondents. You must also make mention of the outliers if there are any. \n"
   ]
  },
  {
   "cell_type": "markdown",
   "metadata": {},
   "source": [
    "<span style=\"color: green\">**Answer**</span>\n",
    "    From the boxplot, we can see that the working age data scientists start from the age of 20 and it goes till 57 years of age. The maximum age of the participants will be 78 and there are considered to be non-working age data scientists. Also we can determine that the average age of data scientists is 34 and we do have outliers in the system where we consider them as non-working age data scientists."
   ]
  },
  {
   "cell_type": "markdown",
   "metadata": {},
   "source": [
    " <div class=\"alert alert-block alert-warning\">\n",
    "5. Regardless of the errors that the data show, we are interested in working-age data scientists, aged between 18 and 65.  \n",
    "\n",
    "How many respondents were under 18 or over 65?"
   ]
  },
  {
   "cell_type": "code",
   "execution_count": 4,
   "metadata": {},
   "outputs": [
    {
     "name": "stdout",
     "output_type": "stream",
     "text": [
      "Non Working Age Data Scientists ==> 19\n"
     ]
    }
   ],
   "source": [
    "filtAge = dataSet.Age\n",
    "nonWorkingAge = sum(a > 65 for a in filtAge) + sum(b < 18 for b in filtAge) #checking for non working age data scientists\n",
    "print('Non Working Age Data Scientists ==> ' + str(nonWorkingAge))"
   ]
  },
  {
   "cell_type": "markdown",
   "metadata": {},
   "source": [
    "<span style=\"color: green\">**Answer**</span>\n",
    "\n"
   ]
  },
  {
   "cell_type": "markdown",
   "metadata": {},
   "source": [
    "### 1.2 Gender\n",
    "<a id=\"gender\"></a>\n",
    "We are interested in the gender of respondents. Within the STEM fields, there are more males than females or other genders. In 2016 the Office of the chief scientist found that women held only 25% of jobs in STEM. Let's see how data science compares. "
   ]
  },
  {
   "cell_type": "markdown",
   "metadata": {
    "_cell_guid": "4b0c5cbc-a703-4b39-95bd-510f07ece6c0",
    "_uuid": "214cae932a19a586e341914443aa89e62009e6c4"
   },
   "source": [
    " <div class=\"alert alert-block alert-info\">\n",
    "\n",
    "6. Plot the gender distribution of survey participants."
   ]
  },
  {
   "cell_type": "code",
   "execution_count": 5,
   "metadata": {},
   "outputs": [
    {
     "data": {
      "image/png": "[encoded data removed]",
      "text/plain": [
       "<Figure size 432x288 with 1 Axes>"
      ]
     },
     "metadata": {
      "needs_background": "light"
     },
     "output_type": "display_data"
    }
   ],
   "source": [
    "filtGender = dataSet.GenderSelect #Extract the data based on gender from the original dataset\n",
    "genderValueCount = filtGender.value_counts() #Extract the value counts from the dataset\n",
    "\n",
    "# Plotting\n",
    "plt.plot(genderValueCount)\n",
    "plt.xlabel('GenderSelect')\n",
    "plt.ylabel('Count')\n",
    "plt.title('Gender Distribution')\n",
    "plt.legend('Gender')\n",
    "plt.show()"
   ]
  },
  {
   "cell_type": "markdown",
   "metadata": {},
   "source": [
    " <div class=\"alert alert-block alert-warning\">\n",
    "\n",
    "7. What percentage of respondants were men? What percentage of respondants were women?"
   ]
  },
  {
   "cell_type": "code",
   "execution_count": 6,
   "metadata": {},
   "outputs": [
    {
     "name": "stdout",
     "output_type": "stream",
     "text": [
      "Percentage of Men Respondants ==> 84.97175141242938\n",
      "Percentage of Women Respondants ==> 14.01129943502825\n"
     ]
    }
   ],
   "source": [
    "totalCount = len(dataSet) #Get the total number of entries\n",
    "maleCount = sum(a == 'Male' for a in filtGender) #filter for men data\n",
    "femaleCount = sum(b == 'Female' for b in filtGender) #filter for women data\n",
    "\n",
    "# Calculate percentage\n",
    "percentageMale = maleCount*(100/totalCount)\n",
    "print(\"Percentage of Men Respondants ==> \" + str(percentageMale))\n",
    "percentageFemale = femaleCount*(100/totalCount)\n",
    "print(\"Percentage of Women Respondants ==> \" + str(percentageFemale))"
   ]
  },
  {
   "cell_type": "markdown",
   "metadata": {},
   "source": [
    "<span style=\"color: green\">**Answer**</span>\n",
    "\n"
   ]
  },
  {
   "cell_type": "markdown",
   "metadata": {
    "_cell_guid": "09958a50-ec25-434c-8b46-4582f01c83f5",
    "_kg_hide-input": false,
    "_uuid": "0a34eeb56a96fccf01cf5bdd7da791b136149fe0"
   },
   "source": [
    " <div class=\"alert alert-block alert-info\">\n",
    "8. Let's see if there is any relationship between age and gender.\n",
    "\n",
    "Create a box plot showing the age of all the participants according to gender.\n",
    "\n",
    "Include the response 'Different identity' in your plot."
   ]
  },
  {
   "cell_type": "code",
   "execution_count": 314,
   "metadata": {},
   "outputs": [
    {
     "data": {
      "image/png": "[encoded data removed]",
      "text/plain": [
       "<Figure size 432x288 with 1 Axes>"
      ]
     },
     "metadata": {
      "needs_background": "light"
     },
     "output_type": "display_data"
    }
   ],
   "source": [
    "df = dataSet\n",
    "\n",
    "#filtering data based on gender\n",
    "maleData = df.loc[df['GenderSelect'] == 'Male']\n",
    "femaleData = df.loc[df['GenderSelect'] == 'Female']\n",
    "otherData = df.loc[df['GenderSelect'] == 'A different identity']\n",
    "\n",
    "#Plot the graph based on the value obtained before\n",
    "dfNew = pd.DataFrame({'Male' : maleData.Age, 'Female' : femaleData.Age, 'Others' : otherData.Age})\n",
    "dfNew.boxplot()\n",
    "plt.ylabel('Age')\n",
    "plt.xlabel('Gender')\n",
    "plt.title('Gender Distribution')\n",
    "plt.show()"
   ]
  },
  {
   "cell_type": "markdown",
   "metadata": {},
   "source": [
    " <div class=\"alert alert-block alert-warning\">\n",
    "\n",
    "9. What comments can you make about the relationship between the age and gender of the respondents?\n",
    "\n",
    "Hint: You need to determine the numeric descriptive statistics"
   ]
  },
  {
   "cell_type": "code",
   "execution_count": 8,
   "metadata": {},
   "outputs": [
    {
     "data": {
      "text/html": [
       "<div>\n",
       "<style scoped>\n",
       "    .dataframe tbody tr th:only-of-type {\n",
       "        vertical-align: middle;\n",
       "    }\n",
       "\n",
       "    .dataframe tbody tr th {\n",
       "        vertical-align: top;\n",
       "    }\n",
       "\n",
       "    .dataframe thead th {\n",
       "        text-align: right;\n",
       "    }\n",
       "</style>\n",
       "<table border=\"1\" class=\"dataframe\">\n",
       "  <thead>\n",
       "    <tr style=\"text-align: right;\">\n",
       "      <th></th>\n",
       "      <th>Male</th>\n",
       "      <th>Female</th>\n",
       "      <th>Others</th>\n",
       "    </tr>\n",
       "  </thead>\n",
       "  <tbody>\n",
       "    <tr>\n",
       "      <th>count</th>\n",
       "      <td>3008.0</td>\n",
       "      <td>496.0</td>\n",
       "      <td>36.0</td>\n",
       "    </tr>\n",
       "    <tr>\n",
       "      <th>mean</th>\n",
       "      <td>35.0</td>\n",
       "      <td>33.0</td>\n",
       "      <td>35.0</td>\n",
       "    </tr>\n",
       "    <tr>\n",
       "      <th>std</th>\n",
       "      <td>10.0</td>\n",
       "      <td>9.0</td>\n",
       "      <td>10.0</td>\n",
       "    </tr>\n",
       "    <tr>\n",
       "      <th>min</th>\n",
       "      <td>20.0</td>\n",
       "      <td>20.0</td>\n",
       "      <td>22.0</td>\n",
       "    </tr>\n",
       "    <tr>\n",
       "      <th>25%</th>\n",
       "      <td>27.0</td>\n",
       "      <td>27.0</td>\n",
       "      <td>28.0</td>\n",
       "    </tr>\n",
       "    <tr>\n",
       "      <th>50%</th>\n",
       "      <td>32.0</td>\n",
       "      <td>30.0</td>\n",
       "      <td>32.0</td>\n",
       "    </tr>\n",
       "    <tr>\n",
       "      <th>75%</th>\n",
       "      <td>40.0</td>\n",
       "      <td>37.0</td>\n",
       "      <td>38.0</td>\n",
       "    </tr>\n",
       "    <tr>\n",
       "      <th>max</th>\n",
       "      <td>78.0</td>\n",
       "      <td>62.0</td>\n",
       "      <td>68.0</td>\n",
       "    </tr>\n",
       "  </tbody>\n",
       "</table>\n",
       "</div>"
      ],
      "text/plain": [
       "         Male  Female  Others\n",
       "count  3008.0   496.0    36.0\n",
       "mean     35.0    33.0    35.0\n",
       "std      10.0     9.0    10.0\n",
       "min      20.0    20.0    22.0\n",
       "25%      27.0    27.0    28.0\n",
       "50%      32.0    30.0    32.0\n",
       "75%      40.0    37.0    38.0\n",
       "max      78.0    62.0    68.0"
      ]
     },
     "execution_count": 8,
     "metadata": {},
     "output_type": "execute_result"
    }
   ],
   "source": [
    "#Get the decriptive statistics\n",
    "genderDescriptiveStatistics = round(dfNew.describe())\n",
    "genderDescriptiveStatistics"
   ]
  },
  {
   "cell_type": "markdown",
   "metadata": {},
   "source": [
    "<span style=\"color: green\">**Answer**</span>\n",
    "\n"
   ]
  },
  {
   "cell_type": "markdown",
   "metadata": {},
   "source": [
    "### 1.3 Country\n",
    "<a id=\"country\"></a>\n",
    "We know that people practise data science all over the world. The United States is thought of as a 'hub' of commercial data science as well as research followed by the United Kingdom and Germany. \n",
    "\n",
    "Because the field is evolving so quickly, it may be that these perceptions, formed in the late 2000s are now inaccurate. So let's find out where data scientists live."
   ]
  },
  {
   "cell_type": "markdown",
   "metadata": {},
   "source": [
    " <div class=\"alert alert-block alert-info\">\n",
    "10. Create a bar graph of the respondants according to which country they are from.\n",
    "\n",
    "Find the percentage of respondants from the top 5 countries\n"
   ]
  },
  {
   "cell_type": "code",
   "execution_count": 281,
   "metadata": {
    "_cell_guid": "f3da614f-96e2-45d1-ba78-9d08a58fa136",
    "_kg_hide-input": true,
    "_uuid": "34afcf67184929a6de8358a13a961d0b9ad25b6c"
   },
   "outputs": [
    {
     "name": "stderr",
     "output_type": "stream",
     "text": [
      "C:\\Users\\Santhosh\\Anaconda3\\lib\\site-packages\\pandas\\core\\groupby\\groupby.py:4656: FutureWarning: using a dict with renaming is deprecated and will be removed in a future version\n",
      "  return super(DataFrameGroupBy, self).aggregate(arg, *args, **kwargs)\n"
     ]
    },
    {
     "name": "stdout",
     "output_type": "stream",
     "text": [
      "United States     1126\n",
      "India              431\n",
      "United Kingdom     151\n",
      "Germany            130\n",
      "Brazil             127\n",
      "Name: Country, dtype: int64\n",
      "\n",
      "Percentage of people from United States ==> 31.81\n",
      "Percentage of people from India ==> 12.18\n",
      "Percentage of people from United Kingdon ==> 4.27\n",
      "Percentage of people from Germany ==> 3.67\n",
      "Percentage of people from Brazils ==> 31.81\n"
     ]
    },
    {
     "data": {
      "image/png": "[encoded data removed]",
      "text/plain": [
       "<Figure size 1440x360 with 1 Axes>"
      ]
     },
     "metadata": {
      "needs_background": "light"
     },
     "output_type": "display_data"
    }
   ],
   "source": [
    "# Group the dataset based on specificatiom\n",
    "countryDataSet = dataSet\n",
    "fun = {'Country':{'Respondants':'count'}} \n",
    "groupbyClass = countryDataSet.groupby('Country').agg(fun)  # Group by based on country and count the respondants\n",
    "groupbyClass = groupbyClass.reset_index() # Reset the index so that the new dataset has a proper index aligned\n",
    "groupbyClass.columns = groupbyClass.columns.droplevel(0) # Droplevel(0), so that column names are aligned properly\n",
    "groupbyClass.rename(columns = {'':'Country'},inplace = True) # Rename the colums in the new dataset\n",
    "\n",
    "# Plot the graph based on the groupby values\n",
    "ind = np.arange(len(groupbyClass)) # To consolidate the whole data in the grpby class, len function is used\n",
    "width = 0.5 # Width between every entity \n",
    "fig, ax = plt.subplots()\n",
    "fig.set_size_inches(20,5) #Lenght and width of the graph\n",
    "ax.bar(ind, groupbyClass['Respondants'], width, color='g')\n",
    "ax.set_xticks(ind + width - 0.5)\n",
    "ax.set_title('Employee Distribution')\n",
    "ax.set_ylabel('Respondant Count')\n",
    "ax.set_xlabel('Countries')\n",
    "ax.set_xticklabels(groupbyClass['Country'],rotation='vertical')\n",
    "\n",
    "# Get the respondant from top countries\n",
    "countryValue = countryDataSet.Country.value_counts()[:5] # Filter the top five countries\n",
    "print(countryValue)\n",
    "\n",
    "#Filter the data based on the countries and calculate the percentage\n",
    "totalLength = len(countryDataSet)\n",
    "usCountry = countryValue['United States']\n",
    "indCountry = countryValue['India']\n",
    "ukCountry = countryValue['United Kingdom']\n",
    "gerCountry = countryValue['Germany']\n",
    "brazilCountry = countryValue['Brazil']\n",
    "usCountryPerc = usCountry*(100/totalLength)\n",
    "print(\"\\nPercentage of people from United States ==> \" + str(round(usCountryPerc,2)))\n",
    "indCountryPerc = indCountry*(100/totalLength)\n",
    "print(\"Percentage of people from India ==> \" + str(round(indCountryPerc,2)))\n",
    "ukCountryPerc = ukCountry*(100/totalLength)\n",
    "print(\"Percentage of people from United Kingdon ==> \" + str(round(ukCountryPerc,2)))\n",
    "gerCountryPerc = gerCountry*(100/totalLength)\n",
    "print(\"Percentage of people from Germany ==> \" + str(round(gerCountryPerc,2)))\n",
    "brazilCountryPerc = brazilCountry*(100/totalLength)\n",
    "print(\"Percentage of people from Brazils ==> \" + str(round(usCountryPerc,2)))"
   ]
  },
  {
   "cell_type": "markdown",
   "metadata": {},
   "source": [
    "<span style=\"color: green\">**Answer**</span>\n",
    "\n"
   ]
  },
  {
   "cell_type": "markdown",
   "metadata": {},
   "source": [
    " <div class=\"alert alert-block alert-warning\">\n",
    "\n",
    "11. What comments can you make about our previous comments on the United States, United Kingdom and Europe?\n",
    "\n",
    "Are the majority of data scientists now likely to come from those countries?\n",
    "\n"
   ]
  },
  {
   "cell_type": "markdown",
   "metadata": {},
   "source": [
    "<span style=\"color: green\">**Answer**</span>\n",
    "\n",
    "No, India is now the second highest producers of data scientists beating United Kingdom and Germany. But United States is still at the top with the most data scientist all over the world."
   ]
  },
  {
   "cell_type": "markdown",
   "metadata": {},
   "source": [
    " <div class=\"alert alert-block alert-info\">\n",
    "12. Now that we have another demographic variable, let's see if there is any relationship between country, age and gender. We are specifically interested in the United States, India, United Kingdom, Germany and of course Australia!\n",
    "\n",
    "\n",
    "Write code to output the mean and median age for each gender for United States, India, United Kingdom, Germany and Australia.\n",
    "\n",
    "Hint: You may need to create a copy or slice."
   ]
  },
  {
   "cell_type": "code",
   "execution_count": 11,
   "metadata": {},
   "outputs": [
    {
     "data": {
      "text/html": [
       "<div>\n",
       "<style scoped>\n",
       "    .dataframe tbody tr th:only-of-type {\n",
       "        vertical-align: middle;\n",
       "    }\n",
       "\n",
       "    .dataframe tbody tr th {\n",
       "        vertical-align: top;\n",
       "    }\n",
       "\n",
       "    .dataframe thead th {\n",
       "        text-align: right;\n",
       "    }\n",
       "</style>\n",
       "<table border=\"1\" class=\"dataframe\">\n",
       "  <thead>\n",
       "    <tr style=\"text-align: right;\">\n",
       "      <th></th>\n",
       "      <th>unique countries</th>\n",
       "      <th>specific_countries</th>\n",
       "      <th>Average Age</th>\n",
       "      <th>Median</th>\n",
       "    </tr>\n",
       "    <tr>\n",
       "      <th>Country</th>\n",
       "      <th></th>\n",
       "      <th></th>\n",
       "      <th></th>\n",
       "      <th></th>\n",
       "    </tr>\n",
       "  </thead>\n",
       "  <tbody>\n",
       "    <tr>\n",
       "      <th>Australia</th>\n",
       "      <td>1</td>\n",
       "      <td>119</td>\n",
       "      <td>36.831933</td>\n",
       "      <td>35.0</td>\n",
       "    </tr>\n",
       "    <tr>\n",
       "      <th>Germany</th>\n",
       "      <td>1</td>\n",
       "      <td>130</td>\n",
       "      <td>36.069231</td>\n",
       "      <td>33.5</td>\n",
       "    </tr>\n",
       "    <tr>\n",
       "      <th>India</th>\n",
       "      <td>1</td>\n",
       "      <td>431</td>\n",
       "      <td>29.480278</td>\n",
       "      <td>28.0</td>\n",
       "    </tr>\n",
       "    <tr>\n",
       "      <th>United Kingdom</th>\n",
       "      <td>1</td>\n",
       "      <td>151</td>\n",
       "      <td>35.496689</td>\n",
       "      <td>33.0</td>\n",
       "    </tr>\n",
       "    <tr>\n",
       "      <th>United States</th>\n",
       "      <td>1</td>\n",
       "      <td>1126</td>\n",
       "      <td>36.444938</td>\n",
       "      <td>34.0</td>\n",
       "    </tr>\n",
       "  </tbody>\n",
       "</table>\n",
       "</div>"
      ],
      "text/plain": [
       "                unique countries  specific_countries  Average Age  Median\n",
       "Country                                                                  \n",
       "Australia                      1                 119    36.831933    35.0\n",
       "Germany                        1                 130    36.069231    33.5\n",
       "India                          1                 431    29.480278    28.0\n",
       "United Kingdom                 1                 151    35.496689    33.0\n",
       "United States                  1                1126    36.444938    34.0"
      ]
     },
     "execution_count": 11,
     "metadata": {},
     "output_type": "execute_result"
    }
   ],
   "source": [
    "# Get the mean and median of specific countries\n",
    "countryDataSet1 = dataSet\n",
    "fun_1 = {'Country':{'unique countries':'nunique','specific_countries':lambda x: sum(e=='Australia' or e=='United Kingdom' or e=='United States' or e=='Germany'or e=='India' for e in x )}, 'Age':{'Average Age':'mean','Median':'median'}}\n",
    "groupbyClass1 = countryDataSet1.groupby('Country').agg(fun_1)\n",
    "groupbyClass1.columns = groupbyClass1.columns.droplevel(0) \n",
    "groupbyClass1.rename(columns = {'':'country'},inplace = True) \n",
    "filtGroupBy = (groupbyClass1.specific_countries > 0)\n",
    "groupbyClass1[filtGroupBy]"
   ]
  },
  {
   "cell_type": "markdown",
   "metadata": {},
   "source": [
    " <div class=\"alert alert-block alert-warning\">\n",
    "\n",
    "13. What Pattern do you notice about the relationship between age, gender for each of these countries?\n"
   ]
  },
  {
   "cell_type": "markdown",
   "metadata": {},
   "source": [
    "<span style=\"color: green\">**Answer**</span>\n",
    "\n"
   ]
  },
  {
   "cell_type": "markdown",
   "metadata": {
    "_cell_guid": "3e161447-2816-45ec-872f-3a20da79c042",
    "_uuid": "d6bdc03f0c63a08754efc13378661dc986d2bcb8"
   },
   "source": [
    "## 2. Education\n",
    "<a id=\"education\"></a>\n",
    "***\n",
    "So far we have seen that there may be some relationships between age, gender and the country that the respondents are from.  Next, we should look at what their education is like. \n",
    "\n",
    "### 2.1 Formal education\n",
    "<a id=\"formal\"></a>\n",
    "\n",
    "We saw in a recent activity that a significant number of job advertisements call for a masters degree or a PhD. Let's see if this is a reasonable ask based on the respondent's formal education. "
   ]
  },
  {
   "cell_type": "markdown",
   "metadata": {},
   "source": [
    " <div class=\"alert alert-block alert-info\">\n",
    " 14. Plot and display as text output the number and percentage of respondents with each type of formal education."
   ]
  },
  {
   "cell_type": "code",
   "execution_count": 12,
   "metadata": {},
   "outputs": [
    {
     "name": "stdout",
     "output_type": "stream",
     "text": [
      "Master's degree                  1594\n",
      "Bachelor's degree                 930\n",
      "Doctoral degree                   808\n",
      "Professional degree                96\n",
      "Incomplete university studies      87\n",
      "No Formal education                25\n",
      "Name: FormalEducation, dtype: int64\n",
      "\n",
      "Percentage of people with masters degree ==> 45.03\n",
      "Percentage of people with bachelors degree ==> 26.27\n",
      "Percentage of people with doctorate degree ==> 22.82\n",
      "Percentage of people with professional degree ==> 2.71\n",
      "Percentage of people with incomplete studies ==> 2.46\n",
      "Percentage of people with no formal education ==> 0.71\n"
     ]
    },
    {
     "data": {
      "image/png": "[encoded data removed]",
      "text/plain": [
       "<Figure size 432x288 with 1 Axes>"
      ]
     },
     "metadata": {
      "needs_background": "light"
     },
     "output_type": "display_data"
    }
   ],
   "source": [
    "# Filter the dataset based on formal education\n",
    "filtEducation = dataSet.FormalEducation\n",
    "filtEducationCount = filtEducation.value_counts()\n",
    "totalCount = len(dataSet.FormalEducation)\n",
    "plt.plot(filtEducationCount)\n",
    "filtEducationCount\n",
    "\n",
    "# Plot the graph based on the filters\n",
    "plt.title('Education')\n",
    "plt.xlabel('Degree')\n",
    "plt.ylabel('Count')\n",
    "plt.legend('Formal Education')\n",
    "plt.xticks(rotation='vertical')\n",
    "print(filtEducationCount)\n",
    "\n",
    "# Extract the specific data and calculate percentage\n",
    "masters = filtEducationCount[\"Master's degree\"]\n",
    "bachelors = filtEducationCount[\"Bachelor's degree\"]\n",
    "doctorate = filtEducationCount['Doctoral degree']\n",
    "professional = filtEducationCount['Professional degree']\n",
    "incompleteStudies = filtEducationCount['Incomplete university studies']\n",
    "noFormalEducation = filtEducationCount['No Formal education']\n",
    "mastersPerc = masters*(100/totalCount)\n",
    "print(\"\\nPercentage of people with masters degree ==> \" + str(round(mastersPerc,2))) #round to first two decimal placess\n",
    "bachelorsPerc = bachelors*(100/totalCount)\n",
    "print(\"Percentage of people with bachelors degree ==> \" + str(round(bachelorsPerc,2)))\n",
    "doctoratePerc = doctorate*(100/totalCount)\n",
    "print(\"Percentage of people with doctorate degree ==> \" + str(round(doctoratePerc,2)))\n",
    "professionalPerc = professional*(100/totalCount)\n",
    "print(\"Percentage of people with professional degree ==> \" + str(round(professionalPerc,2)))\n",
    "incompleteStudiesPerc = incompleteStudies*(100/totalCount)\n",
    "print(\"Percentage of people with incomplete studies ==> \" + str(round(incompleteStudiesPerc,2)))\n",
    "noFormalEducationPerc = noFormalEducation*(100/totalCount)\n",
    "print(\"Percentage of people with no formal education ==> \" + str(round(noFormalEducationPerc,2)))"
   ]
  },
  {
   "cell_type": "markdown",
   "metadata": {},
   "source": [
    " <div class=\"alert alert-block alert-warning\">\n",
    "\n",
    "15. Based on what you have seen, do you think that a Master's or Doctoral degree is too unrealistic for job advertisers looking for someone with data science skills?\n",
    "\n",
    "Its still realistic to have a master's degree by the job advertisers, but from the data set its clear that doctoral degree doesn't hold a bigger place in the real world. Because most people with bachelor's degree are into data science compared to doctorate's, so its a minimum requirement to have a bachelor's degree to have a higher chance of getting into data science jobs. "
   ]
  },
  {
   "cell_type": "markdown",
   "metadata": {
    "collapsed": true
   },
   "source": [
    "<span style=\"color: green\">**Answer**</span>\n",
    "\n"
   ]
  },
  {
   "cell_type": "markdown",
   "metadata": {},
   "source": [
    " <div class=\"alert alert-block alert-info\">\n",
    "16. Let's see if the trend is reflected in the Australian respondents.\n",
    "\n",
    "Plot and display as text output the number and percentage of Australian respondents with each type of formal education."
   ]
  },
  {
   "cell_type": "code",
   "execution_count": 417,
   "metadata": {},
   "outputs": [
    {
     "name": "stdout",
     "output_type": "stream",
     "text": [
      "Bachelor's degree                45\n",
      "Master's degree                  42\n",
      "Doctoral degree                  25\n",
      "Incomplete university studies     5\n",
      "Professional degree               2\n",
      "Name: FormalEducation, dtype: int64\n",
      "42\n",
      "\n",
      "Percentage of people with masters degree in Australia ==> 35.29\n",
      "Percentage of people with bachelors degree in Australia ==> 37.82\n",
      "Percentage of people with doctorate degree in Australia ==> 21.01\n",
      "Percentage of people with professional degree in Australia ==> 1.68\n",
      "Percentage of people with incomplete studies in Australia ==> 4.2\n"
     ]
    },
    {
     "data": {
      "image/png": "[encoded data removed]",
      "text/plain": [
       "<Figure size 432x288 with 1 Axes>"
      ]
     },
     "metadata": {
      "needs_background": "light"
     },
     "output_type": "display_data"
    }
   ],
   "source": [
    "countryDataSet2 = dataSet\n",
    "filt = countryDataSet2['Country'] == 'Australia'\n",
    "filtCountry = countryDataSet2[filt]\n",
    "filtCountry = filtCountry.FormalEducation.value_counts()\n",
    "print(filtCountry)\n",
    "totalCountAus = filtCountry.sum()\n",
    "\n",
    "#Extract the specific data and calculate percentage\n",
    "mastersAus = filtCountry[\"Master's degree\"]\n",
    "bachelorsAus = filtCountry[\"Bachelor's degree\"]\n",
    "doctorateAus = filtCountry['Doctoral degree']\n",
    "professionalAus = filtCountry['Professional degree']\n",
    "incompleteStudiesAus = filtCountry['Incomplete university studies']\n",
    "mastersPercAus = mastersAus*(100/totalCountAus)\n",
    "print(mastersAus)\n",
    "print(\"\\nPercentage of people with masters degree in Australia ==> \" + str(round(mastersPercAus,2)))\n",
    "bachelorsPercAus = bachelorsAus*(100/totalCountAus)\n",
    "print(\"Percentage of people with bachelors degree in Australia ==> \" + str(round(bachelorsPercAus,2)))\n",
    "doctoratePercAus = doctorateAus*(100/totalCountAus)\n",
    "print(\"Percentage of people with doctorate degree in Australia ==> \" + str(round(doctoratePercAus,2)))\n",
    "professionalPercAus = professionalAus*(100/totalCountAus)\n",
    "print(\"Percentage of people with professional degree in Australia ==> \" + str(round(professionalPercAus,2)))\n",
    "incompleteStudiesPercAus = incompleteStudiesAus*(100/totalCountAus)\n",
    "print(\"Percentage of people with incomplete studies in Australia ==> \" + str(round(incompleteStudiesPercAus,2)))\n",
    "\n",
    "# Plot the graph with corresponding changes\n",
    "plt.plot(filtCountry)\n",
    "plt.xticks(rotation='vertical')\n",
    "plt.title('Education in Australia')\n",
    "plt.xlabel('Degree')\n",
    "plt.ylabel('Count')\n",
    "plt.legend('Australian Formal Education')\n",
    "plt.show()"
   ]
  },
  {
   "cell_type": "markdown",
   "metadata": {},
   "source": [
    " <div class=\"alert alert-block alert-info\">\n",
    "\n",
    "17. Display as text output the mean and median age of each respondant according to each degree type.\n",
    "\n"
   ]
  },
  {
   "cell_type": "code",
   "execution_count": 14,
   "metadata": {},
   "outputs": [
    {
     "data": {
      "text/html": [
       "<div>\n",
       "<style scoped>\n",
       "    .dataframe tbody tr th:only-of-type {\n",
       "        vertical-align: middle;\n",
       "    }\n",
       "\n",
       "    .dataframe tbody tr th {\n",
       "        vertical-align: top;\n",
       "    }\n",
       "\n",
       "    .dataframe thead th {\n",
       "        text-align: right;\n",
       "    }\n",
       "</style>\n",
       "<table border=\"1\" class=\"dataframe\">\n",
       "  <thead>\n",
       "    <tr style=\"text-align: right;\">\n",
       "      <th></th>\n",
       "      <th>FormalEducation</th>\n",
       "      <th>Average Age</th>\n",
       "      <th>Median</th>\n",
       "    </tr>\n",
       "  </thead>\n",
       "  <tbody>\n",
       "    <tr>\n",
       "      <th>0</th>\n",
       "      <td>Bachelor's degree</td>\n",
       "      <td>30.632258</td>\n",
       "      <td>28.0</td>\n",
       "    </tr>\n",
       "    <tr>\n",
       "      <th>1</th>\n",
       "      <td>Doctoral degree</td>\n",
       "      <td>39.235149</td>\n",
       "      <td>37.0</td>\n",
       "    </tr>\n",
       "    <tr>\n",
       "      <th>2</th>\n",
       "      <td>Incomplete university studies</td>\n",
       "      <td>36.011494</td>\n",
       "      <td>35.0</td>\n",
       "    </tr>\n",
       "    <tr>\n",
       "      <th>3</th>\n",
       "      <td>Master's degree</td>\n",
       "      <td>33.746550</td>\n",
       "      <td>31.0</td>\n",
       "    </tr>\n",
       "    <tr>\n",
       "      <th>4</th>\n",
       "      <td>No Formal education</td>\n",
       "      <td>41.680000</td>\n",
       "      <td>42.0</td>\n",
       "    </tr>\n",
       "    <tr>\n",
       "      <th>5</th>\n",
       "      <td>Professional degree</td>\n",
       "      <td>36.645833</td>\n",
       "      <td>34.5</td>\n",
       "    </tr>\n",
       "  </tbody>\n",
       "</table>\n",
       "</div>"
      ],
      "text/plain": [
       "                 FormalEducation  Average Age  Median\n",
       "0              Bachelor's degree    30.632258    28.0\n",
       "1                Doctoral degree    39.235149    37.0\n",
       "2  Incomplete university studies    36.011494    35.0\n",
       "3                Master's degree    33.746550    31.0\n",
       "4            No Formal education    41.680000    42.0\n",
       "5            Professional degree    36.645833    34.5"
      ]
     },
     "execution_count": 14,
     "metadata": {},
     "output_type": "execute_result"
    }
   ],
   "source": [
    "# Group by based on formal education and calculate the mean and median of the datasets\n",
    "countryDataSet3 = dataSet\n",
    "fun_2 = {'Age':{'Average Age':'mean','Median':'median'}}\n",
    "groupbyClass3 = countryDataSet3.groupby('FormalEducation').agg(fun_2)\n",
    "groupbyClass3.columns = groupbyClass3.columns.droplevel(0) \n",
    "groupbyClass3 = groupbyClass3.reset_index()\n",
    "groupbyClass3.rename(columns = {'':'Formal Education'},inplace = True) \n",
    "groupbyClass3"
   ]
  },
  {
   "cell_type": "markdown",
   "metadata": {
    "_cell_guid": "d6b6ad94-84dd-4c53-b4cc-0b5a72303f56",
    "_uuid": "b66038723fc475c1a3e878da5adc2c73367a5f8e"
   },
   "source": [
    "## 3. Employment\n",
    "<a id=\"employment\"></a>\n",
    "***\n",
    "After you complete your degree many of you will be seeking work. The graduate employment four months after graduation in Australia is 69.5%. At Monash, it is 70.1%. This is for all Australian degrees. Let's have a look at the state of the employment market for the respondents. \n",
    "\n",
    "Let's have a look at the data. "
   ]
  },
  {
   "cell_type": "markdown",
   "metadata": {},
   "source": [
    "\n",
    "### 3.1 Employment status\n",
    "<a id=\"employment\"></a>\n",
    "The type of employment will affect the salary of a worker. Those employed part-time will likely earn less than those who work full time. "
   ]
  },
  {
   "cell_type": "markdown",
   "metadata": {},
   "source": [
    " <div class=\"alert alert-block alert-info\">\n",
    "\n",
    "18. Plot the type of employment the respondents have on a bar chart.\n",
    "\n"
   ]
  },
  {
   "cell_type": "code",
   "execution_count": 78,
   "metadata": {},
   "outputs": [
    {
     "data": {
      "text/plain": [
       "[Text(0, 0, 'Employed full-time'),\n",
       " Text(0, 0, 'Employed part-time'),\n",
       " Text(0, 0, 'Independent contractor, freelancer, or self-employed')]"
      ]
     },
     "execution_count": 78,
     "metadata": {},
     "output_type": "execute_result"
    },
    {
     "data": {
      "image/png": "[encoded data removed]",
      "text/plain": [
       "<Figure size 504x504 with 1 Axes>"
      ]
     },
     "metadata": {
      "needs_background": "light"
     },
     "output_type": "display_data"
    }
   ],
   "source": [
    "# Group by based on employment status\n",
    "employmentData = dataSet\n",
    "funEmploy = {'EmploymentStatus':{'Count':'count'}}\n",
    "groupbyClassEmploy = employmentData.groupby('EmploymentStatus').agg(funEmploy)\n",
    "groupbyClassEmploy.columns = groupbyClassEmploy.columns.droplevel(0) \n",
    "groupbyClassEmploy = groupbyClassEmploy.reset_index()\n",
    "groupbyClassEmploy\n",
    "\n",
    "# Plot the graph based on the groupby filter\n",
    "ind = np.arange(len(groupbyClassEmploy))\n",
    "width = 0.5     \n",
    "fig, ax = plt.subplots()\n",
    "fig.set_size_inches(7,7)\n",
    "ax.bar(ind, groupbyClassEmploy['Count'], width, color='orange')\n",
    "ax.set_xticks(ind + width - 0.5)\n",
    "ax.set_title('Employment Status')\n",
    "ax.set_ylabel('Count')\n",
    "ax.set_xlabel('Type of Employment')\n",
    "plt.legend('Status of Employment')\n",
    "ax.set_xticklabels(groupbyClassEmploy['EmploymentStatus'],rotation='vertical')"
   ]
  },
  {
   "cell_type": "markdown",
   "metadata": {},
   "source": [
    " <div class=\"alert alert-block alert-info\">\n",
    "\n",
    "19. You may be wondering if your own degree and experince will help you gain full time employment after you graduate. \n",
    "\n",
    "Plot the respondants employment types against their degrees.\n",
    "\n"
   ]
  },
  {
   "cell_type": "code",
   "execution_count": null,
   "metadata": {
    "_cell_guid": "a47536f6-a33f-429b-a16a-c3aec369d7cd",
    "_kg_hide-input": true,
    "_uuid": "6b84c4b06b0155374fdb76abea6b94980546408b"
   },
   "outputs": [],
   "source": [
    "# Your code\n",
    "degree = employmentData.FormalEducation\n",
    "empType = employmentData.EmploymentStatus\n",
    "plt.plot(degree, empType)\n",
    "plt.show()"
   ]
  },
  {
   "cell_type": "markdown",
   "metadata": {},
   "source": [
    " <div class=\"alert alert-block alert-warning\">\n",
    "20. Looking at the graph, which degree is best to gain full-time employment?\n",
    "\n",
    "What is odd about IT, networking or system administration??\n",
    "\n",
    "Explain your answers."
   ]
  },
  {
   "cell_type": "markdown",
   "metadata": {},
   "source": [
    "<span style=\"color: green\">**Answer**</span>\n",
    "\n"
   ]
  },
  {
   "cell_type": "markdown",
   "metadata": {},
   "source": [
    " <div class=\"alert alert-block alert-info\">\n",
    "\n",
    "21. Overall, we know that 92.71% of respondents are employed, and 89.55% are employed full time. This may not be the same for every country. \n",
    "Print out the percentages of all respondents who are employed full time in Australia, United Kingdom and the United States."
   ]
  },
  {
   "cell_type": "code",
   "execution_count": 409,
   "metadata": {},
   "outputs": [
    {
     "name": "stdout",
     "output_type": "stream",
     "text": [
      "        Employedstatus  Employedstatus  countries  specific_countries\n",
      "1   Employed full-time       Australia          1                 101\n",
      "46  Employed full-time  United Kingdom          1                 137\n",
      "47  Employed full-time   United States          1                1030\n",
      "\n",
      "Percentage of people with full time job in Australia ==> 7.97\n",
      "Percentage of people with full time job in UK ==> 10.8\n",
      "Percentage of people with full time job in US ==> 81.23\n"
     ]
    }
   ],
   "source": [
    "#Group by based on specific countries and get the percentages\n",
    "fullTimeDatSet = dataSet\n",
    "fullTimeEmpData = (fullTimeDatSet['EmploymentStatus'] == 'Employed full-time')\n",
    "fullTimeEmp = fullTimeDatSet[fullTimeEmpData]\n",
    "funEmp = {'Country':{'countries':'nunique','specific_countries':lambda x: sum(e=='Australia' or e=='United Kingdom' or e=='United States' for e in x )},}\n",
    "groupbyEmpClass = employmentData.groupby(['EmploymentStatus','Country']).agg(funEmp)\n",
    "groupbyEmpClass = groupbyEmpClass.reset_index()\n",
    "groupbyEmpClass.columns = groupbyEmpClass.columns.droplevel(0) \n",
    "groupbyEmpClass.rename(columns = {'':'Employedstatus'},inplace = True)\n",
    "filtGroupByEmp = ((groupbyEmpClass.specific_countries > 100))\n",
    "newgroupbyEmpClass = groupbyEmpClass[filtGroupByEmp]\n",
    "total_fullTime = newgroupbyEmpClass.specific_countries.sum()\n",
    "total_fullTime\n",
    "print(newgroupbyEmpClass)\n",
    "fullTimeAus = 101*(100/total_fullTime)\n",
    "ukFullTime = 137*(100/total_fullTime)\n",
    "usFullTime = 1030*(100/total_fullTime)\n",
    "print(\"\\nPercentage of people with full time job in Australia ==> \" + str(round(fullTimeAus,2)))\n",
    "print(\"Percentage of people with full time job in UK ==> \" + str(round(ukFullTime,2)))\n",
    "print(\"Percentage of people with full time job in US ==> \" + str(round(usFullTime,2)))"
   ]
  },
  {
   "cell_type": "markdown",
   "metadata": {},
   "source": [
    "Remember earlier we saw that age seemed to have some interesting characteristics when plotted with other variables. \n",
    "\n",
    "Let's find out the median age of employees by type of employment. "
   ]
  },
  {
   "cell_type": "markdown",
   "metadata": {},
   "source": [
    " <div class=\"alert alert-block alert-info\">\n",
    "22. Plot a boxplot of the respondents age grouped by employment type."
   ]
  },
  {
   "cell_type": "code",
   "execution_count": 107,
   "metadata": {},
   "outputs": [
    {
     "name": "stdout",
     "output_type": "stream",
     "text": [
      "                                    EmploymentStatus  Count\n",
      "0                                 Employed full-time   3170\n",
      "1                                 Employed part-time    112\n",
      "2  Independent contractor, freelancer, or self-em...    258\n"
     ]
    },
    {
     "name": "stderr",
     "output_type": "stream",
     "text": [
      "C:\\Users\\Santhosh\\Anaconda3\\lib\\site-packages\\pandas\\core\\groupby\\groupby.py:4656: FutureWarning: using a dict with renaming is deprecated and will be removed in a future version\n",
      "  return super(DataFrameGroupBy, self).aggregate(arg, *args, **kwargs)\n"
     ]
    },
    {
     "data": {
      "text/plain": [
       "Text(0.5, 1.0, 'Employment Status vs Age BoxPlot')"
      ]
     },
     "execution_count": 107,
     "metadata": {},
     "output_type": "execute_result"
    },
    {
     "data": {
      "image/png": "[encoded data removed]",
      "text/plain": [
       "<Figure size 432x288 with 1 Axes>"
      ]
     },
     "metadata": {
      "needs_background": "light"
     },
     "output_type": "display_data"
    }
   ],
   "source": [
    "# Group by based on the employment type and get the respondants age\n",
    "funEmployPlot = {'Age':{'Count':'count'}}\n",
    "groupbyClassEmployPlot = employmentData.groupby('EmploymentStatus').agg(funEmployPlot)\n",
    "groupbyClassEmployPlot.columns = groupbyClassEmployPlot.columns.droplevel(0) \n",
    "groupbyClassEmployPlot = groupbyClassEmployPlot.reset_index()\n",
    "print(groupbyClassEmployPlot)\n",
    "df1 = dataSet\n",
    "fullTimeEmp = df1.loc[df1['EmploymentStatus'] == 'Employed full-time']\n",
    "partTimeEmp = df1.loc[df1['EmploymentStatus'] == 'Employed part-time']\n",
    "freelancer = df1.loc[df1['EmploymentStatus'] == 'Independent contractor, freelancer, or self-employed']\n",
    "\n",
    "# Boxplot the data for age vs employment type\n",
    "dfNewPlot = pd.DataFrame({'Fully Employed' : fullTimeEmp.Age, 'Part Time' : partTimeEmp.Age, 'Freelancer' : freelancer.Age})\n",
    "dfNewPlot.boxplot()\n",
    "plt.ylabel('Age')\n",
    "plt.xlabel('Employment Status')\n",
    "plt.title('Employment Status vs Age BoxPlot')"
   ]
  },
  {
   "cell_type": "markdown",
   "metadata": {},
   "source": [
    "Now this is interesting, full time employees seem to be a little older than part time employees. Independent contactors, freelancers and self-employed respondents are older still. "
   ]
  },
  {
   "cell_type": "markdown",
   "metadata": {
    "_cell_guid": "551f7dba-71d3-4f77-8852-fce4f789d644",
    "_uuid": "31449fb18bfea68bb723b010b78dcab6c8fe5439"
   },
   "source": [
    "## 4. Salary\n",
    "<a id=\"salary\"></a>\n",
    "\n",
    "Data science is considered a very well paying role and was named 'best job of the year' for 2016. \n",
    "\n",
    "We had a look around and saw that data scientists were paid between $110,823 at IBM and 149,963 at Apple, in Australian dollars. \n",
    "\n",
    "On average it seems that $116,840 is what an Australian Data scientist can expect to earn. Do you think this is reasonable? Is this any different to the rest of the world? "
   ]
  },
  {
   "cell_type": "markdown",
   "metadata": {},
   "source": [
    "### 4.1 Salary overview\n",
    "<a id=\"overview\"></a>\n",
    "Since all of the respondents did not come from one country, we can assume that they gave their salaries in their countries currency. We have filtered the data for you and provided exchange rates in a file called *conversionRates.csv* which should already be imported. \n",
    "\n",
    "Let's have a look at the data. "
   ]
  },
  {
   "cell_type": "markdown",
   "metadata": {},
   "source": [
    " <div class=\"alert alert-block alert-info\">\n",
    "23. Use the codes for each country to merge the files so that you can convert the salary data to Australian Dollars (AUD). Print out the maximum and median salary in AUD. Hint: think about what data type you have."
   ]
  },
  {
   "cell_type": "code",
   "execution_count": 354,
   "metadata": {},
   "outputs": [
    {
     "name": "stdout",
     "output_type": "stream",
     "text": [
      "Maximum Salary ==> 790290.0\n",
      "Median Salary ==> 76998.42\n"
     ]
    }
   ],
   "source": [
    "# Merge two datasets based on common columns\n",
    "conversionDataSet=pd.read_csv('conversionRates.csv')\n",
    "newDataSet = dataSet\n",
    "newConversionData = conversionDataSet\n",
    "\n",
    "# Rename the columns on both the datasets to get a common column name\n",
    "newDataSet.rename(columns={'CompensationCurrency' : 'Currency Code'}, inplace = True) \n",
    "newConversionData.rename(columns={'originCountry' : 'Currency Code'}, inplace = True)\n",
    "\n",
    "# Merge the column based on the common column\n",
    "mergeData = pd.merge(newDataSet,newConversionData, on = [\"Currency Code\"])\n",
    "\n",
    "# Insert a new column that converts all the salaries to AUD\n",
    "insertColumn = pd.DataFrame(mergeData)\n",
    "salaryAUD = (mergeData.CompensationAmount * mergeData.exchangeRateAUS)\n",
    "insertColumn.insert(9,\"Salary_in_AUD\",salaryAUD, True)\n",
    "\n",
    "# Print the maximum and the median salary in the list\n",
    "print (\"Maximum Salary ==> \" + str(max(insertColumn[\"Salary_in_AUD\"])))\n",
    "print (\"Median Salary ==> \" + str(round(st.median(insertColumn[\"Salary_in_AUD\"]),2)))"
   ]
  },
  {
   "cell_type": "markdown",
   "metadata": {},
   "source": [
    " <div class=\"alert alert-block alert-warning\">\n",
    "24. Do those figures reflect the values at the beginning of this section? Why do you think so?\n"
   ]
  },
  {
   "cell_type": "markdown",
   "metadata": {},
   "source": [
    "<span style=\"color: green\">**Answer**</span>\n",
    "\n"
   ]
  },
  {
   "cell_type": "markdown",
   "metadata": {},
   "source": [
    "### 4.2 Salary by country\n",
    "<a id=\"countrysal\"></a>\n",
    "\n",
    "Since each country has different cost of living and pay indexes, we should see how they compare."
   ]
  },
  {
   "cell_type": "markdown",
   "metadata": {},
   "source": [
    "<div class=\"alert alert-block alert-info\">\n",
    "25. Plot a boxplot of the Australian respondents salary distribution. Print out the maximum and median salaries for Australian repsondnts."
   ]
  },
  {
   "cell_type": "code",
   "execution_count": 247,
   "metadata": {},
   "outputs": [
    {
     "data": {
      "image/png": "[encoded data removed]",
      "text/plain": [
       "<Figure size 432x288 with 1 Axes>"
      ]
     },
     "metadata": {
      "needs_background": "light"
     },
     "output_type": "display_data"
    },
    {
     "name": "stdout",
     "output_type": "stream",
     "text": [
      "Maximum Salary ==> 500000.0\n",
      "Median Salary ==> 120000.0\n"
     ]
    }
   ],
   "source": [
    "# Filter the data based on country and box plot it based on salary\n",
    "ausSalary = (newDataSet['Country'] == 'Australia')\n",
    "ausSalaryValue = newDataSet[ausSalary]\n",
    "ausSalaryValue.boxplot(column='CompensationAmount')\n",
    "plt.ylabel('Salary')\n",
    "plt.title('Salary Distribution')\n",
    "plt.ylim(0,550000)\n",
    "plt.show()\n",
    "\n",
    "# Print the mean and median salaries of Australian Respondants\n",
    "print (\"Maximum Salary ==> \" + str(max(ausSalaryValue.CompensationAmount)))\n",
    "print (\"Median Salary ==> \" + str(st.median(ausSalaryValue.CompensationAmount)))"
   ]
  },
  {
   "cell_type": "markdown",
   "metadata": {},
   "source": [
    " <div class=\"alert alert-block alert-warning\">\n",
    "26. Do those figures for Australia reflect the values at the beginning of this section?\n"
   ]
  },
  {
   "cell_type": "markdown",
   "metadata": {},
   "source": [
    "<span style=\"color: green\">**Answer**</span>\n",
    "\n"
   ]
  },
  {
   "cell_type": "markdown",
   "metadata": {},
   "source": [
    "<div class=\"alert alert-block alert-info\">\n",
    "27. Australia's salaries look pretty good.\n",
    "\n",
    "Plot the salaries of all countries on a bar chart.\n",
    "\n",
    "Hint: Adjust for full-time employees only"
   ]
  },
  {
   "cell_type": "code",
   "execution_count": 299,
   "metadata": {},
   "outputs": [
    {
     "name": "stderr",
     "output_type": "stream",
     "text": [
      "C:\\Users\\Santhosh\\Anaconda3\\lib\\site-packages\\pandas\\core\\groupby\\groupby.py:4656: FutureWarning: using a dict with renaming is deprecated and will be removed in a future version\n",
      "  return super(DataFrameGroupBy, self).aggregate(arg, *args, **kwargs)\n"
     ]
    },
    {
     "data": {
      "text/plain": [
       "[Text(0, 0, 'Argentina'),\n",
       " Text(0, 0, 'Australia'),\n",
       " Text(0, 0, 'Belarus'),\n",
       " Text(0, 0, 'Belgium'),\n",
       " Text(0, 0, 'Brazil'),\n",
       " Text(0, 0, 'Canada'),\n",
       " Text(0, 0, 'Chile'),\n",
       " Text(0, 0, 'Colombia'),\n",
       " Text(0, 0, 'Czech Republic'),\n",
       " Text(0, 0, 'Denmark'),\n",
       " Text(0, 0, 'Egypt'),\n",
       " Text(0, 0, 'Finland'),\n",
       " Text(0, 0, 'France'),\n",
       " Text(0, 0, 'Germany'),\n",
       " Text(0, 0, 'Greece'),\n",
       " Text(0, 0, 'Hong Kong'),\n",
       " Text(0, 0, 'Hungary'),\n",
       " Text(0, 0, 'India'),\n",
       " Text(0, 0, 'Indonesia'),\n",
       " Text(0, 0, 'Iran'),\n",
       " Text(0, 0, 'Ireland'),\n",
       " Text(0, 0, 'Israel'),\n",
       " Text(0, 0, 'Italy'),\n",
       " Text(0, 0, 'Japan'),\n",
       " Text(0, 0, 'Kenya'),\n",
       " Text(0, 0, 'Malaysia'),\n",
       " Text(0, 0, 'Mexico'),\n",
       " Text(0, 0, 'Netherlands'),\n",
       " Text(0, 0, 'New Zealand'),\n",
       " Text(0, 0, 'Nigeria'),\n",
       " Text(0, 0, 'Norway'),\n",
       " Text(0, 0, 'Pakistan'),\n",
       " Text(0, 0, \"People 's Republic of China\"),\n",
       " Text(0, 0, 'Philippines'),\n",
       " Text(0, 0, 'Poland'),\n",
       " Text(0, 0, 'Portugal'),\n",
       " Text(0, 0, 'Russia'),\n",
       " Text(0, 0, 'Singapore'),\n",
       " Text(0, 0, 'South Africa'),\n",
       " Text(0, 0, 'South Korea'),\n",
       " Text(0, 0, 'Spain'),\n",
       " Text(0, 0, 'Sweden'),\n",
       " Text(0, 0, 'Switzerland'),\n",
       " Text(0, 0, 'Taiwan'),\n",
       " Text(0, 0, 'Turkey'),\n",
       " Text(0, 0, 'Ukraine'),\n",
       " Text(0, 0, 'United Kingdom'),\n",
       " Text(0, 0, 'United States'),\n",
       " Text(0, 0, 'Vietnam')]"
      ]
     },
     "execution_count": 299,
     "metadata": {},
     "output_type": "execute_result"
    },
    {
     "data": {
      "image/png": "[encoded data removed]",
      "text/plain": [
       "<Figure size 1440x360 with 1 Axes>"
      ]
     },
     "metadata": {
      "needs_background": "light"
     },
     "output_type": "display_data"
    }
   ],
   "source": [
    "# Group the dataset based on the employment status(full time employees) of the repondants\n",
    "fullTime = (insertColumn['EmploymentStatus'] == 'Employed full-time')\n",
    "fullTimeEmp = insertColumn[fullTime]\n",
    "funEmployPlot = {'Salary_in_AUD':{'Average Salary':'mean'}} # Get the average salary\n",
    "groupbyClassSalary = fullTimeEmp.groupby('Country').agg(funEmployPlot) # Group by based on country using average salary\n",
    "groupbyClassSalary.columns = groupbyClassSalary.columns.droplevel(0) \n",
    "groupbyClassSalary = groupbyClassSalary.reset_index()\n",
    "groupbyClassSalary\n",
    "\n",
    "# Plot a bar chart based on the group by class\n",
    "ind = np.arange(len(groupbyClassSalary))\n",
    "width = 0.5     \n",
    "fig, ax = plt.subplots()\n",
    "fig.set_size_inches(20,5)\n",
    "ax.bar(ind, groupbyClassSalary['Average Salary'], width, color='g')\n",
    "ax.set_xticks(ind + width - 0.5)\n",
    "ax.set_title('Average Salary of all the countries')\n",
    "ax.set_ylabel('Average Salary in AUD')\n",
    "ax.set_xlabel('Countries')\n",
    "ax.set_xticklabels(groupbyClassSalary['Country'],rotation='vertical')"
   ]
  },
  {
   "cell_type": "markdown",
   "metadata": {},
   "source": [
    " <div class=\"alert alert-block alert-warning\">\n",
    "28. What do you notice about the distributions? What do you think is the cause of this?\n"
   ]
  },
  {
   "cell_type": "markdown",
   "metadata": {},
   "source": [
    "<span style=\"color: green\">**Answer**</span>\n",
    "\n"
   ]
  },
  {
   "cell_type": "markdown",
   "metadata": {
    "_cell_guid": "0b225e5f-aafc-4e2c-8d4c-201e253d1074",
    "_uuid": "99a87fe0b63e8abb7449574f85f2571d68f06c6b"
   },
   "source": [
    "### 4.3 Salary and Gender\n",
    "<a id=\"gender_salary\"></a>\n",
    "The gender pay gap in the tech industry is a big talking point. Let's see if the respondents are noticing the effect."
   ]
  },
  {
   "cell_type": "markdown",
   "metadata": {},
   "source": [
    "<div class=\"alert alert-block alert-info\">\n",
    "\n",
    "\n",
    "29. Plot the salaries of all countries grouped by gender on a boxplot.\n"
   ]
  },
  {
   "cell_type": "code",
   "execution_count": 318,
   "metadata": {
    "_cell_guid": "a841024d-daf3-4d35-879a-dd2c3ac94478",
    "_kg_hide-input": true,
    "_uuid": "25b61f0f927c786ebb85bc7ced0b187f03db7c53"
   },
   "outputs": [
    {
     "data": {
      "text/plain": [
       "<matplotlib.axes._subplots.AxesSubplot at 0x22d27a63a90>"
      ]
     },
     "execution_count": 318,
     "metadata": {},
     "output_type": "execute_result"
    },
    {
     "data": {
      "image/png": "[encoded data removed]",
      "text/plain": [
       "<Figure size 432x288 with 1 Axes>"
      ]
     },
     "metadata": {
      "needs_background": "light"
     },
     "output_type": "display_data"
    }
   ],
   "source": [
    "# Extract the data based on Gender\n",
    "newMergedData = insertColumn\n",
    "maleMergedData = insertColumn.loc[insertColumn['GenderSelect'] == 'Male']\n",
    "femaleMergedData = insertColumn.loc[insertColumn['GenderSelect'] == 'Female']\n",
    "otherMergedData = insertColumn.loc[insertColumn['GenderSelect'] == 'A different identity']\n",
    "\n",
    "# Boxplot the salaries of all countries based on the gender\n",
    "plotMergedData = pd.DataFrame({'Male' : maleMergedData.Salary_in_AUD, 'Female' : femaleMergedData.Salary_in_AUD, 'Others' : otherMergedData.Salary_in_AUD})\n",
    "plotMergedData.boxplot()"
   ]
  },
  {
   "cell_type": "markdown",
   "metadata": {},
   "source": [
    " <div class=\"alert alert-block alert-warning\">\n",
    "30. What do you notice about the distributions?\n"
   ]
  },
  {
   "cell_type": "markdown",
   "metadata": {},
   "source": [
    "<span style=\"color: green\">**Answer**</span>\n",
    "\n"
   ]
  },
  {
   "cell_type": "markdown",
   "metadata": {},
   "source": [
    "<div class=\"alert alert-block alert-info\">\n",
    "31. The salaries may be affected by the country the responant is from. In Australia the weekly difference in pay between men and women is 17.7% and in the United states it is 26%.\n",
    "\n",
    "Print the median salaries of Australia, United States and India grouped by gender.\n"
   ]
  },
  {
   "cell_type": "code",
   "execution_count": 380,
   "metadata": {},
   "outputs": [
    {
     "data": {
      "text/html": [
       "<div>\n",
       "<style scoped>\n",
       "    .dataframe tbody tr th:only-of-type {\n",
       "        vertical-align: middle;\n",
       "    }\n",
       "\n",
       "    .dataframe tbody tr th {\n",
       "        vertical-align: top;\n",
       "    }\n",
       "\n",
       "    .dataframe thead th {\n",
       "        text-align: right;\n",
       "    }\n",
       "</style>\n",
       "<table border=\"1\" class=\"dataframe\">\n",
       "  <thead>\n",
       "    <tr style=\"text-align: right;\">\n",
       "      <th></th>\n",
       "      <th>Country</th>\n",
       "      <th>GenderSelect</th>\n",
       "      <th>unique countries</th>\n",
       "      <th>specific_entries</th>\n",
       "      <th>Median Salary</th>\n",
       "    </tr>\n",
       "  </thead>\n",
       "  <tbody>\n",
       "    <tr>\n",
       "      <th>2</th>\n",
       "      <td>Australia</td>\n",
       "      <td>Female</td>\n",
       "      <td>1</td>\n",
       "      <td>18</td>\n",
       "      <td>82000.000000</td>\n",
       "    </tr>\n",
       "    <tr>\n",
       "      <th>3</th>\n",
       "      <td>Australia</td>\n",
       "      <td>Male</td>\n",
       "      <td>1</td>\n",
       "      <td>101</td>\n",
       "      <td>130000.000000</td>\n",
       "    </tr>\n",
       "    <tr>\n",
       "      <th>37</th>\n",
       "      <td>India</td>\n",
       "      <td>A different identity</td>\n",
       "      <td>1</td>\n",
       "      <td>1</td>\n",
       "      <td>13628.148800</td>\n",
       "    </tr>\n",
       "    <tr>\n",
       "      <th>38</th>\n",
       "      <td>India</td>\n",
       "      <td>Female</td>\n",
       "      <td>1</td>\n",
       "      <td>49</td>\n",
       "      <td>12654.709600</td>\n",
       "    </tr>\n",
       "    <tr>\n",
       "      <th>39</th>\n",
       "      <td>India</td>\n",
       "      <td>Male</td>\n",
       "      <td>1</td>\n",
       "      <td>381</td>\n",
       "      <td>17327.217760</td>\n",
       "    </tr>\n",
       "    <tr>\n",
       "      <th>108</th>\n",
       "      <td>United States</td>\n",
       "      <td>A different identity</td>\n",
       "      <td>1</td>\n",
       "      <td>11</td>\n",
       "      <td>168264.137295</td>\n",
       "    </tr>\n",
       "    <tr>\n",
       "      <th>109</th>\n",
       "      <td>United States</td>\n",
       "      <td>Female</td>\n",
       "      <td>1</td>\n",
       "      <td>213</td>\n",
       "      <td>112176.091530</td>\n",
       "    </tr>\n",
       "    <tr>\n",
       "      <th>110</th>\n",
       "      <td>United States</td>\n",
       "      <td>Male</td>\n",
       "      <td>1</td>\n",
       "      <td>902</td>\n",
       "      <td>143336.116955</td>\n",
       "    </tr>\n",
       "  </tbody>\n",
       "</table>\n",
       "</div>"
      ],
      "text/plain": [
       "           Country          GenderSelect  unique countries  specific_entries  \\\n",
       "2        Australia                Female                 1                18   \n",
       "3        Australia                  Male                 1               101   \n",
       "37           India  A different identity                 1                 1   \n",
       "38           India                Female                 1                49   \n",
       "39           India                  Male                 1               381   \n",
       "108  United States  A different identity                 1                11   \n",
       "109  United States                Female                 1               213   \n",
       "110  United States                  Male                 1               902   \n",
       "\n",
       "     Median Salary  \n",
       "2     82000.000000  \n",
       "3    130000.000000  \n",
       "37    13628.148800  \n",
       "38    12654.709600  \n",
       "39    17327.217760  \n",
       "108  168264.137295  \n",
       "109  112176.091530  \n",
       "110  143336.116955  "
      ]
     },
     "execution_count": 380,
     "metadata": {},
     "output_type": "execute_result"
    }
   ],
   "source": [
    "# Group by the data based on country and gender and get the median salary in the specific countries\n",
    "grpCountry = insertColumn\n",
    "fun_grpCountry = {'Country':{'unique countries':'nunique','specific_entries':lambda x: sum(e=='Australia' or e=='United States' or e=='India' for e in x )}, 'Salary_in_AUD':{'Median Salary':'median'}}\n",
    "grpCountry = grpCountry.groupby(['Country','GenderSelect']).agg(fun_grpCountry)\n",
    "grpCountry.columns = grpCountry.columns.droplevel(0) \n",
    "grpCountry = grpCountry.reset_index()\n",
    "grpCountry.rename(columns = {'':'country'},inplace = True)\n",
    "grpCountry \n",
    "filtGrpCountry = (grpCountry.specific_entries > 0)\n",
    "grpCountry[filtGrpCountry]"
   ]
  },
  {
   "cell_type": "markdown",
   "metadata": {
    "_cell_guid": "e47aea02-e5a2-4a39-832c-4357ba3986a9",
    "_uuid": "20116846f18df89156bbac8005d130aaf3588909"
   },
   "source": [
    "### 4.4 Salary and formal education\n",
    "<a id=\"education_salary\"></a>\n",
    "\n",
    "*Is getting your master's really worth it ?*\n",
    "*Do PhDs get more money?*\n",
    "\n",
    "Let's see."
   ]
  },
  {
   "cell_type": "markdown",
   "metadata": {},
   "source": [
    "<div class=\"alert alert-block alert-info\">\n",
    "32. Plot the salary distribution of all respondants and group by formal education type on a boxplot.\n"
   ]
  },
  {
   "cell_type": "code",
   "execution_count": 337,
   "metadata": {
    "_cell_guid": "273d6151-645f-444d-b5a5-be9b7150cdf0",
    "_kg_hide-input": true,
    "_uuid": "2299a4ed70ff610b3be64787786bee9cde947047"
   },
   "outputs": [
    {
     "data": {
      "text/plain": [
       "(array([1, 2, 3, 4, 5, 6]), <a list of 6 Text xticklabel objects>)"
      ]
     },
     "execution_count": 337,
     "metadata": {},
     "output_type": "execute_result"
    },
    {
     "data": {
      "image/png": "[encoded data removed]",
      "text/plain": [
       "<Figure size 720x720 with 1 Axes>"
      ]
     },
     "metadata": {
      "needs_background": "light"
     },
     "output_type": "display_data"
    }
   ],
   "source": [
    "# Your code\n",
    "grpSalary= insertColumn\n",
    "grpSalary.boxplot(column = 'Salary_in_AUD', by = 'FormalEducation', figsize = (10,10))\n",
    "plt.xticks(rotation='vertical')"
   ]
  },
  {
   "cell_type": "markdown",
   "metadata": {},
   "source": [
    " <div class=\"alert alert-block alert-warning\">\n",
    "33. Is it better to get your Masters or PhD? \n",
    "\n",
    "Explain your answer."
   ]
  },
  {
   "cell_type": "markdown",
   "metadata": {},
   "source": [
    "<span style=\"color: green\">**Answer**</span>\n"
   ]
  },
  {
   "cell_type": "markdown",
   "metadata": {},
   "source": [
    "### 4.5 Salary and job\n",
    "<a id=\"salary_job\"></a>\n",
    "So are data scientists the highest paid in the industry?  Or are there lesser known roles that are hiding from the spotlight?"
   ]
  },
  {
   "cell_type": "markdown",
   "metadata": {},
   "source": [
    "<div class=\"alert alert-block alert-info\">\n",
    "\n",
    "34. Plot a bar chart of average salary (with error bars) of full time employees and group by job title."
   ]
  },
  {
   "cell_type": "code",
   "execution_count": 370,
   "metadata": {},
   "outputs": [
    {
     "data": {
      "text/plain": [
       "[Text(0, 0, 'Business Analyst'),\n",
       " Text(0, 0, 'Computer Scientist'),\n",
       " Text(0, 0, 'DBA/Database Engineer'),\n",
       " Text(0, 0, 'Data Analyst'),\n",
       " Text(0, 0, 'Data Miner'),\n",
       " Text(0, 0, 'Data Scientist'),\n",
       " Text(0, 0, 'Engineer'),\n",
       " Text(0, 0, 'Machine Learning Engineer'),\n",
       " Text(0, 0, 'Operations Research Practitioner'),\n",
       " Text(0, 0, 'Other'),\n",
       " Text(0, 0, 'Predictive Modeler'),\n",
       " Text(0, 0, 'Programmer'),\n",
       " Text(0, 0, 'Researcher'),\n",
       " Text(0, 0, 'Scientist/Researcher'),\n",
       " Text(0, 0, 'Software Developer/Software Engineer'),\n",
       " Text(0, 0, 'Statistician')]"
      ]
     },
     "execution_count": 370,
     "metadata": {},
     "output_type": "execute_result"
    },
    {
     "data": {
      "image/png": "[encoded data removed]",
      "text/plain": [
       "<Figure size 504x504 with 1 Axes>"
      ]
     },
     "metadata": {
      "needs_background": "light"
     },
     "output_type": "display_data"
    }
   ],
   "source": [
    "grpSalary1= insertColumn\n",
    "grpSalaryJob = (grpSalary1['EmploymentStatus'] == 'Employed full-time')\n",
    "grpSalaryJobData = grpSalary1[grpSalaryJob]\n",
    "\n",
    "grpByJobTitle = {'Salary_in_AUD' : {'Average_Salary' : 'mean'}}\n",
    "grpByJobTitleData = grpSalaryJobData.groupby('CurrentJobTitleSelect').agg(grpByJobTitle)\n",
    "grpByJobTitleData.columns = grpByJobTitleData.columns.droplevel(0)\n",
    "grpByJobTitleData = grpByJobTitleData.reset_index()\n",
    "grpByJobTitleData \n",
    "ind = np.arange(len(grpByJobTitleData))\n",
    "width = 0.5     \n",
    "fig, ax = plt.subplots()\n",
    "fig.set_size_inches(7,7)\n",
    "ax.bar(ind, grpByJobTitleData['Average_Salary'], width, color='orange')\n",
    "ax.set_xticks(ind + width - 0.5)\n",
    "ax.set_title('Job title of full time employees')\n",
    "ax.set_ylabel('Average_Salary')\n",
    "ax.set_xlabel('Designation')\n",
    "plt.legend('JOB')\n",
    "ax.set_xticklabels(grpByJobTitleData['CurrentJobTitleSelect'],rotation='vertical')"
   ]
  },
  {
   "cell_type": "markdown",
   "metadata": {},
   "source": [
    " <div class=\"alert alert-block alert-warning\">\n",
    "35. Which job earns the most? Give a brief explaination of that job.\n"
   ]
  },
  {
   "cell_type": "markdown",
   "metadata": {},
   "source": [
    "<span style=\"color: green\">**Answer**</span>\n",
    "\n"
   ]
  },
  {
   "cell_type": "markdown",
   "metadata": {},
   "source": [
    "<div class=\"alert alert-block alert-info\">\n",
    "36. So why are data scientists in the spotlight? Plot the salary distribution of full-time employees and group by job title as boxplots."
   ]
  },
  {
   "cell_type": "code",
   "execution_count": 359,
   "metadata": {
    "_cell_guid": "e91f935d-90a7-44d7-b8c3-8eb3e3385d7e",
    "_kg_hide-input": true,
    "_uuid": "9ccfbef988f508e5565f3d7deeac46140f4c0234"
   },
   "outputs": [
    {
     "data": {
      "text/plain": [
       "(array([ 1,  2,  3,  4,  5,  6,  7,  8,  9, 10, 11, 12, 13, 14, 15, 16]),\n",
       " <a list of 16 Text xticklabel objects>)"
      ]
     },
     "execution_count": 359,
     "metadata": {},
     "output_type": "execute_result"
    },
    {
     "data": {
      "image/png": "[encoded data removed]",
      "text/plain": [
       "<Figure size 1440x720 with 1 Axes>"
      ]
     },
     "metadata": {
      "needs_background": "light"
     },
     "output_type": "display_data"
    }
   ],
   "source": [
    "# Your code\n",
    "grpSalaryJobData.boxplot(column = 'Salary_in_AUD', by = 'CurrentJobTitleSelect', figsize = (20,10))\n",
    "plt.xticks(rotation='vertical')"
   ]
  },
  {
   "cell_type": "markdown",
   "metadata": {},
   "source": [
    " <div class=\"alert alert-block alert-warning\">\n",
    "37. Do the boxplots give some insight into why data scientists may receive so much attention?\n",
    "\n",
    "Explain your answer."
   ]
  },
  {
   "cell_type": "markdown",
   "metadata": {},
   "source": [
    "<span style=\"color: green\">**Answer**</span>\n",
    "\n"
   ]
  },
  {
   "cell_type": "markdown",
   "metadata": {},
   "source": [
    "## 5. Predicting salary\n",
    "<a id=\"pred\"></a>\n",
    "\n",
    "We have looked at many variables and seen that there are a lot of factors that could affect your salary.  \n",
    "\n",
    "Let's say we wanted to reduce it though? One method we could use is a linear regression. This is a very basic model that can give us some insights. Note though, there are more robust ways to predict salary based on categorical variables. But this exercise will give you a taste of predictive modelling."
   ]
  },
  {
   "cell_type": "markdown",
   "metadata": {},
   "source": [
    "<div class=\"alert alert-block alert-info\">\n",
    "38. Plot the salary distribution and age of respondants on a scatterplot."
   ]
  },
  {
   "cell_type": "code",
   "execution_count": 373,
   "metadata": {},
   "outputs": [
    {
     "data": {
      "text/plain": [
       "<function matplotlib.pyplot.show(*args, **kw)>"
      ]
     },
     "execution_count": 373,
     "metadata": {},
     "output_type": "execute_result"
    },
    {
     "data": {
      "image/png": "[encoded data removed]",
      "text/plain": [
       "<Figure size 432x288 with 1 Axes>"
      ]
     },
     "metadata": {
      "needs_background": "light"
     },
     "output_type": "display_data"
    }
   ],
   "source": [
    "# Your code\n",
    "salDist = insertColumn\n",
    "plt.scatter(salDist.Salary_in_AUD, salDist.Age)\n",
    "plt.xticks(rotation='vertical')\n",
    "plt.ylabel('Age')\n",
    "plt.xlabel('Salary in AUD')\n",
    "plt.title('Salary Distribution based on Age')\n",
    "plt.show"
   ]
  },
  {
   "cell_type": "markdown",
   "metadata": {},
   "source": [
    "<div class=\"alert alert-block alert-info\">\n",
    "\n",
    "39. There may be a weak relationship. Let's refine this.\n",
    "\n",
    "Create a linear regression between the salary and age of full-time Australian respondants. Plot the linear fit over the scatterplot."
   ]
  },
  {
   "cell_type": "code",
   "execution_count": 376,
   "metadata": {},
   "outputs": [
    {
     "data": {
      "image/png": "[encoded data removed]",
      "text/plain": [
       "<Figure size 432x288 with 1 Axes>"
      ]
     },
     "metadata": {
      "needs_background": "light"
     },
     "output_type": "display_data"
    }
   ],
   "source": [
    "#Your code\n",
    "from scipy.stats import linregress\n",
    "slope, intercept, r_value, p_value, std_err = linregress(salDist.Salary_in_AUD, salDist.Age)\n",
    "line = [slope*xi + intercept for xi in salDist.Salary_in_AUD]\n",
    "plt.plot(salDist.Salary_in_AUD,line,'r-', linewidth=3)\n",
    "plt.scatter(salDist.Salary_in_AUD, salDist.Age)\n",
    "plt.xticks(rotation='vertical')\n",
    "plt.ylabel('Age')\n",
    "plt.xlabel('Salary in AUD')\n",
    "plt.title('Salary Distribution based on Age')\n",
    "plt.show()"
   ]
  },
  {
   "cell_type": "markdown",
   "metadata": {
    "_cell_guid": "0474ebf4-4f5a-48a1-82cf-79f68141bacc",
    "_uuid": "fce3892f4b73acce66a69dbc74f1299ee87572f8"
   },
   "source": [
    " <div class=\"alert alert-block alert-warning\">\n",
    "40. Do You think that this is a good way to predict salaries?\n",
    "\n",
    "Explain your answer."
   ]
  },
  {
   "cell_type": "markdown",
   "metadata": {
    "_cell_guid": "37030be5-a00c-4289-84e2-588d26a71a3a",
    "_uuid": "cbc7a897ef5e01a7bc743c453427b21243b85436"
   },
   "source": [
    "<span style=\"color: green\">**Answer**</span>\n",
    "\n"
   ]
  },
  {
   "cell_type": "markdown",
   "metadata": {},
   "source": [
    "Well done you have completed Part A. Don't forget Part B below. \n",
    "\n",
    "For reassurance, the Graduate Careers Australia 2016 survey found the median salary for masters graduates in Computer Science and IT was $76,000."
   ]
  },
  {
   "cell_type": "markdown",
   "metadata": {},
   "source": [
    "## Task B - Exploratory Analysis on Other Data\n",
    "\n",
    "Find some publicly available data and repeat some of the analysis performed in Task A above. Good sources of data are government websites, such as: data.gov.au, data.gov, data.gov.in, data.gov.uk, ...\n",
    "\n",
    "Please note that your report and analysis should contain consideration of the data you have found and its broader impact in terms of (1) the purpose of the data, (2) ethics and privacy issues, (3) environmental impact, (4) societal benefit, (5) health benefit, and (6) commercial benefit. Moreover, your analysis should at least involve (7) visualisation, (8) interpretation of your visualisation and (9) a prediction task.\n",
    "\n",
    "To perform Task B, you can continue by extending this jupyter notebook file by adding more cells."
   ]
  },
  {
   "cell_type": "code",
   "execution_count": 119,
   "metadata": {},
   "outputs": [
    {
     "data": {
      "text/html": [
       "<div>\n",
       "<style scoped>\n",
       "    .dataframe tbody tr th:only-of-type {\n",
       "        vertical-align: middle;\n",
       "    }\n",
       "\n",
       "    .dataframe tbody tr th {\n",
       "        vertical-align: top;\n",
       "    }\n",
       "\n",
       "    .dataframe thead th {\n",
       "        text-align: right;\n",
       "    }\n",
       "</style>\n",
       "<table border=\"1\" class=\"dataframe\">\n",
       "  <thead>\n",
       "    <tr style=\"text-align: right;\">\n",
       "      <th></th>\n",
       "      <th>financial_year</th>\n",
       "      <th>state</th>\n",
       "      <th>area_of_expenditure</th>\n",
       "      <th>broad_source_of_funding</th>\n",
       "      <th>detailed_source_of_funding</th>\n",
       "      <th>real_expenditure_millions</th>\n",
       "    </tr>\n",
       "  </thead>\n",
       "  <tbody>\n",
       "    <tr>\n",
       "      <th>0</th>\n",
       "      <td>1997-98</td>\n",
       "      <td>NSW</td>\n",
       "      <td>Administration</td>\n",
       "      <td>Government</td>\n",
       "      <td>Australian Government</td>\n",
       "      <td>315.0</td>\n",
       "    </tr>\n",
       "    <tr>\n",
       "      <th>1</th>\n",
       "      <td>1997-98</td>\n",
       "      <td>NSW</td>\n",
       "      <td>Administration</td>\n",
       "      <td>Government</td>\n",
       "      <td>State and local</td>\n",
       "      <td>120.0</td>\n",
       "    </tr>\n",
       "    <tr>\n",
       "      <th>2</th>\n",
       "      <td>1997-98</td>\n",
       "      <td>NSW</td>\n",
       "      <td>Administration</td>\n",
       "      <td>Non-government</td>\n",
       "      <td>Private health insurance funds</td>\n",
       "      <td>314.0</td>\n",
       "    </tr>\n",
       "    <tr>\n",
       "      <th>3</th>\n",
       "      <td>1997-98</td>\n",
       "      <td>NSW</td>\n",
       "      <td>Aids and appliances</td>\n",
       "      <td>Government</td>\n",
       "      <td>Australian Government</td>\n",
       "      <td>65.0</td>\n",
       "    </tr>\n",
       "    <tr>\n",
       "      <th>4</th>\n",
       "      <td>1997-98</td>\n",
       "      <td>NSW</td>\n",
       "      <td>Aids and appliances</td>\n",
       "      <td>Non-government</td>\n",
       "      <td>Individuals</td>\n",
       "      <td>168.0</td>\n",
       "    </tr>\n",
       "  </tbody>\n",
       "</table>\n",
       "</div>"
      ],
      "text/plain": [
       "  financial_year state  area_of_expenditure broad_source_of_funding  \\\n",
       "0        1997-98   NSW       Administration              Government   \n",
       "1        1997-98   NSW       Administration              Government   \n",
       "2        1997-98   NSW       Administration          Non-government   \n",
       "3        1997-98   NSW  Aids and appliances              Government   \n",
       "4        1997-98   NSW  Aids and appliances          Non-government   \n",
       "\n",
       "       detailed_source_of_funding  real_expenditure_millions  \n",
       "0           Australian Government                      315.0  \n",
       "1                 State and local                      120.0  \n",
       "2  Private health insurance funds                      314.0  \n",
       "3           Australian Government                       65.0  \n",
       "4                     Individuals                      168.0  "
      ]
     },
     "execution_count": 119,
     "metadata": {},
     "output_type": "execute_result"
    }
   ],
   "source": [
    "healthDataSet=pd.read_csv('healthexpenditurebyareaandsource.csv')\n",
    "healthDataSet.head()"
   ]
  },
  {
   "cell_type": "code",
   "execution_count": null,
   "metadata": {},
   "outputs": [],
   "source": [
    "#We are looking at the health expenditures done in Australia from 1998 - 2012."
   ]
  },
  {
   "cell_type": "code",
   "execution_count": 159,
   "metadata": {},
   "outputs": [
    {
     "data": {
      "text/plain": [
       "count    6778.00\n",
       "mean      218.09\n",
       "std       587.84\n",
       "min      -216.00\n",
       "25%         7.00\n",
       "50%        38.00\n",
       "75%       158.00\n",
       "max      6838.00\n",
       "Name: real_expenditure_millions, dtype: float64"
      ]
     },
     "execution_count": 159,
     "metadata": {},
     "output_type": "execute_result"
    }
   ],
   "source": [
    "financialYearData = healthDataSet\n",
    "round(financialYearData.real_expenditure_millions.describe(),2)"
   ]
  },
  {
   "cell_type": "code",
   "execution_count": 180,
   "metadata": {},
   "outputs": [
    {
     "name": "stdout",
     "output_type": "stream",
     "text": [
      "       Year  Count  Dollars in Millions\n",
      "0   1997-98    418              65705.0\n",
      "1   1998-99    437              69540.0\n",
      "2   1999-00    443              73084.0\n",
      "3   2000-01    440              78687.0\n",
      "4   2001-02    445              82895.0\n",
      "5   2002-03    448              87702.0\n",
      "6   2003-04    464              90617.0\n",
      "7   2004-05    464              96503.0\n",
      "8   2005-06    456              99076.0\n",
      "9   2006-07    455             104979.0\n",
      "10  2007-08    456             112106.0\n",
      "11  2008-09    459             119757.0\n",
      "12  2009-10    459             124767.0\n",
      "13  2010-11    467             132572.0\n",
      "14  2011-12    467             140248.0\n"
     ]
    },
    {
     "data": {
      "text/plain": [
       "Text(0.5, 1.0, 'Health Expenditure in Australia')"
      ]
     },
     "execution_count": 180,
     "metadata": {},
     "output_type": "execute_result"
    },
    {
     "data": {
      "image/png": "[encoded data removed]",
      "text/plain": [
       "<Figure size 432x288 with 1 Axes>"
      ]
     },
     "metadata": {
      "needs_background": "light"
     },
     "output_type": "display_data"
    }
   ],
   "source": [
    "fun_1 = {'financial_year':{'Count':'count'},'real_expenditure_millions':{'Dollars in Millions':'sum'}}\n",
    "groupbyClassFinancial = financialYearData.groupby(['financial_year']).agg(fun_1)\n",
    "groupbyClassFinancial = groupbyClassFinancial.reset_index()                  # turn 'class' groups into column values\n",
    "groupbyClassFinancial.columns = groupbyClassFinancial.columns.droplevel(0)\n",
    "groupbyClassFinancial.rename(columns = {'':'Year'},inplace = True)\n",
    "print(groupbyClassFinancial)\n",
    "plt.bar(groupbyClassFinancial.Year,groupbyClassFinancial[\"Dollars in Millions\"], color='g')\n",
    "plt.xticks(rotation='vertical')\n",
    "plt.xlabel(\"Financial Year\")\n",
    "plt.ylabel(\"Dollars in Millions\")\n",
    "plt.title(\"Health Expenditure in Australia\")"
   ]
  },
  {
   "cell_type": "code",
   "execution_count": 148,
   "metadata": {},
   "outputs": [
    {
     "data": {
      "text/html": [
       "<div>\n",
       "<style scoped>\n",
       "    .dataframe tbody tr th:only-of-type {\n",
       "        vertical-align: middle;\n",
       "    }\n",
       "\n",
       "    .dataframe tbody tr th {\n",
       "        vertical-align: top;\n",
       "    }\n",
       "\n",
       "    .dataframe thead th {\n",
       "        text-align: right;\n",
       "    }\n",
       "</style>\n",
       "<table border=\"1\" class=\"dataframe\">\n",
       "  <thead>\n",
       "    <tr style=\"text-align: right;\">\n",
       "      <th></th>\n",
       "      <th>Source</th>\n",
       "      <th>Count</th>\n",
       "    </tr>\n",
       "  </thead>\n",
       "  <tbody>\n",
       "    <tr>\n",
       "      <th>0</th>\n",
       "      <td>Government</td>\n",
       "      <td>2815</td>\n",
       "    </tr>\n",
       "    <tr>\n",
       "      <th>1</th>\n",
       "      <td>Non-government</td>\n",
       "      <td>3963</td>\n",
       "    </tr>\n",
       "  </tbody>\n",
       "</table>\n",
       "</div>"
      ],
      "text/plain": [
       "           Source  Count\n",
       "0      Government   2815\n",
       "1  Non-government   3963"
      ]
     },
     "execution_count": 148,
     "metadata": {},
     "output_type": "execute_result"
    }
   ],
   "source": [
    "fun_1 = {'broad_source_of_funding':{'Count':'count'}}\n",
    "groupbyClassSource = financialYearData.groupby('broad_source_of_funding').agg(fun_1)\n",
    "groupbyClassSource = groupbyClassSource.reset_index()                  # turn 'class' groups into column values\n",
    "groupbyClassSource.columns = groupbyClassSource.columns.droplevel(0)\n",
    "groupbyClassSource.rename(columns = {'':'Source'},inplace = True)\n",
    "groupbyClassSource"
   ]
  },
  {
   "cell_type": "code",
   "execution_count": 182,
   "metadata": {},
   "outputs": [
    {
     "data": {
      "text/plain": [
       "[<matplotlib.lines.Line2D at 0x22d6d9b4d68>]"
      ]
     },
     "execution_count": 182,
     "metadata": {},
     "output_type": "execute_result"
    },
    {
     "data": {
      "image/png": "[encoded data removed]",
      "text/plain": [
       "<Figure size 432x288 with 1 Axes>"
      ]
     },
     "metadata": {
      "needs_background": "light"
     },
     "output_type": "display_data"
    }
   ],
   "source": [
    "financialYearPLot = financialYearData.financial_year\n",
    "financialYearPLotValue = financialYearPLot.value_counts()\n",
    "plt.xticks(rotation='vertical')\n",
    "plt.xlabel(\"Financial Year\")\n",
    "plt.ylabel(\"Count\")\n",
    "plt.title(\"Health Statistics Every Financial Year\")\n",
    "plt.plot(financialYearPLotValue)"
   ]
  },
  {
   "cell_type": "code",
   "execution_count": 183,
   "metadata": {},
   "outputs": [
    {
     "data": {
      "image/png": "[encoded data removed]",
      "text/plain": [
       "<Figure size 432x288 with 1 Axes>"
      ]
     },
     "metadata": {
      "needs_background": "light"
     },
     "output_type": "display_data"
    }
   ],
   "source": [
    "financialYearData.boxplot(column='real_expenditure_millions')\n",
    "plt.ylabel('Age Limit')\n",
    "plt.title('Age Box Plot')\n",
    "#plt.ylim(10,80)\n",
    "plt.show()"
   ]
  },
  {
   "cell_type": "code",
   "execution_count": 193,
   "metadata": {},
   "outputs": [
    {
     "data": {
      "text/html": [
       "<div>\n",
       "<style scoped>\n",
       "    .dataframe tbody tr th:only-of-type {\n",
       "        vertical-align: middle;\n",
       "    }\n",
       "\n",
       "    .dataframe tbody tr th {\n",
       "        vertical-align: top;\n",
       "    }\n",
       "\n",
       "    .dataframe thead th {\n",
       "        text-align: right;\n",
       "    }\n",
       "</style>\n",
       "<table border=\"1\" class=\"dataframe\">\n",
       "  <thead>\n",
       "    <tr style=\"text-align: right;\">\n",
       "      <th></th>\n",
       "      <th>Expenditure Area</th>\n",
       "      <th>Count</th>\n",
       "    </tr>\n",
       "  </thead>\n",
       "  <tbody>\n",
       "    <tr>\n",
       "      <th>0</th>\n",
       "      <td>Administration</td>\n",
       "      <td>352</td>\n",
       "    </tr>\n",
       "    <tr>\n",
       "      <th>1</th>\n",
       "      <td>Aids and appliances</td>\n",
       "      <td>483</td>\n",
       "    </tr>\n",
       "    <tr>\n",
       "      <th>2</th>\n",
       "      <td>All other medications</td>\n",
       "      <td>482</td>\n",
       "    </tr>\n",
       "    <tr>\n",
       "      <th>3</th>\n",
       "      <td>Benefit-paid pharmaceuticals</td>\n",
       "      <td>240</td>\n",
       "    </tr>\n",
       "    <tr>\n",
       "      <th>4</th>\n",
       "      <td>Capital expenditure</td>\n",
       "      <td>360</td>\n",
       "    </tr>\n",
       "    <tr>\n",
       "      <th>5</th>\n",
       "      <td>Community health</td>\n",
       "      <td>533</td>\n",
       "    </tr>\n",
       "    <tr>\n",
       "      <th>6</th>\n",
       "      <td>Dental services</td>\n",
       "      <td>599</td>\n",
       "    </tr>\n",
       "    <tr>\n",
       "      <th>7</th>\n",
       "      <td>Medical expense tax rebate</td>\n",
       "      <td>240</td>\n",
       "    </tr>\n",
       "    <tr>\n",
       "      <th>8</th>\n",
       "      <td>Medical services</td>\n",
       "      <td>480</td>\n",
       "    </tr>\n",
       "    <tr>\n",
       "      <th>9</th>\n",
       "      <td>Other health practitioners</td>\n",
       "      <td>483</td>\n",
       "    </tr>\n",
       "    <tr>\n",
       "      <th>10</th>\n",
       "      <td>Patient transport services</td>\n",
       "      <td>599</td>\n",
       "    </tr>\n",
       "    <tr>\n",
       "      <th>11</th>\n",
       "      <td>Private hospitals</td>\n",
       "      <td>550</td>\n",
       "    </tr>\n",
       "    <tr>\n",
       "      <th>12</th>\n",
       "      <td>Public health</td>\n",
       "      <td>400</td>\n",
       "    </tr>\n",
       "    <tr>\n",
       "      <th>13</th>\n",
       "      <td>Public hospitals</td>\n",
       "      <td>600</td>\n",
       "    </tr>\n",
       "    <tr>\n",
       "      <th>14</th>\n",
       "      <td>Research</td>\n",
       "      <td>377</td>\n",
       "    </tr>\n",
       "  </tbody>\n",
       "</table>\n",
       "</div>"
      ],
      "text/plain": [
       "                Expenditure Area  Count\n",
       "0                 Administration    352\n",
       "1            Aids and appliances    483\n",
       "2          All other medications    482\n",
       "3   Benefit-paid pharmaceuticals    240\n",
       "4            Capital expenditure    360\n",
       "5               Community health    533\n",
       "6                Dental services    599\n",
       "7     Medical expense tax rebate    240\n",
       "8               Medical services    480\n",
       "9     Other health practitioners    483\n",
       "10    Patient transport services    599\n",
       "11             Private hospitals    550\n",
       "12                 Public health    400\n",
       "13              Public hospitals    600\n",
       "14                      Research    377"
      ]
     },
     "execution_count": 193,
     "metadata": {},
     "output_type": "execute_result"
    }
   ],
   "source": [
    "fun_exp = {'area_of_expenditure':{'Count':'count'}}\n",
    "groupbyClassExp = financialYearData.groupby('area_of_expenditure').agg(fun_exp)\n",
    "groupbyClassExp = groupbyClassExp.reset_index()                  # turn 'class' groups into column values\n",
    "groupbyClassExp.columns = groupbyClassExp.columns.droplevel(0)\n",
    "groupbyClassExp.rename(columns = {'':'Expenditure Area'},inplace = True)\n",
    "groupbyClassExp"
   ]
  },
  {
   "cell_type": "code",
   "execution_count": null,
   "metadata": {},
   "outputs": [],
   "source": []
  }
 ],
 "metadata": {
  "kernelspec": {
   "display_name": "Python 3",
   "language": "python",
   "name": "python3"
  },
  "language_info": {
   "codemirror_mode": {
    "name": "ipython",
    "version": 3
   },
   "file_extension": ".py",
   "mimetype": "text/x-python",
   "name": "python",
   "nbconvert_exporter": "python",
   "pygments_lexer": "ipython3",
   "version": "3.7.1"
  }
 },
 "nbformat": 4,
 "nbformat_minor": 1
}
